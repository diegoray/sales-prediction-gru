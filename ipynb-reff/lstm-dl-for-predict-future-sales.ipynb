{
 "cells": [
  {
   "cell_type": "code",
   "execution_count": 1,
   "id": "63760bdf",
   "metadata": {
    "_cell_guid": "b1076dfc-b9ad-4769-8c92-a6c4dae69d19",
    "_uuid": "8f2839f25d086af736a60e9eeb907d3b93b6e0e5",
    "execution": {
     "iopub.execute_input": "2022-02-22T17:10:53.520407Z",
     "iopub.status.busy": "2022-02-22T17:10:53.518916Z",
     "iopub.status.idle": "2022-02-22T17:10:54.452563Z",
     "shell.execute_reply": "2022-02-22T17:10:54.451747Z",
     "shell.execute_reply.started": "2022-02-22T15:40:56.711195Z"
    },
    "papermill": {
     "duration": 0.955705,
     "end_time": "2022-02-22T17:10:54.452750",
     "exception": false,
     "start_time": "2022-02-22T17:10:53.497045",
     "status": "completed"
    },
    "tags": []
   },
   "outputs": [
    {
     "name": "stdout",
     "output_type": "stream",
     "text": [
      "/kaggle/input/competitive-data-science-predict-future-sales/items.csv\n",
      "/kaggle/input/competitive-data-science-predict-future-sales/sample_submission.csv\n",
      "/kaggle/input/competitive-data-science-predict-future-sales/item_categories.csv\n",
      "/kaggle/input/competitive-data-science-predict-future-sales/sales_train.csv\n",
      "/kaggle/input/competitive-data-science-predict-future-sales/shops.csv\n",
      "/kaggle/input/competitive-data-science-predict-future-sales/test.csv\n"
     ]
    }
   ],
   "source": [
    "import seaborn as sns\n",
    "sns.set()\n",
    "import numpy as np \n",
    "import pandas as pd \n",
    "import matplotlib.pyplot as plt \n",
    "from sklearn.model_selection import train_test_split, cross_val_score \n",
    "import os \n",
    "for dirname, _, filenames in os.walk('/kaggle/input'):\n",
    "    for filename in filenames:\n",
    "        print(os.path.join(dirname, filename))"
   ]
  },
  {
   "cell_type": "markdown",
   "id": "da2788a9",
   "metadata": {
    "papermill": {
     "duration": 0.016955,
     "end_time": "2022-02-22T17:10:54.489185",
     "exception": false,
     "start_time": "2022-02-22T17:10:54.472230",
     "status": "completed"
    },
    "tags": []
   },
   "source": [
    "## 1. Read the Data"
   ]
  },
  {
   "cell_type": "code",
   "execution_count": 2,
   "id": "e7bcaa95",
   "metadata": {
    "execution": {
     "iopub.execute_input": "2022-02-22T17:10:54.527805Z",
     "iopub.status.busy": "2022-02-22T17:10:54.527133Z",
     "iopub.status.idle": "2022-02-22T17:10:57.035583Z",
     "shell.execute_reply": "2022-02-22T17:10:57.035066Z",
     "shell.execute_reply.started": "2022-02-22T15:40:56.725839Z"
    },
    "papermill": {
     "duration": 2.529585,
     "end_time": "2022-02-22T17:10:57.035724",
     "exception": false,
     "start_time": "2022-02-22T17:10:54.506139",
     "status": "completed"
    },
    "tags": []
   },
   "outputs": [],
   "source": [
    "train_data = pd.read_csv('/kaggle/input/competitive-data-science-predict-future-sales/sales_train.csv')\n",
    "test_data = pd.read_csv('/kaggle/input/competitive-data-science-predict-future-sales/test.csv')"
   ]
  },
  {
   "cell_type": "code",
   "execution_count": 3,
   "id": "b7bf5951",
   "metadata": {
    "execution": {
     "iopub.execute_input": "2022-02-22T17:10:57.078358Z",
     "iopub.status.busy": "2022-02-22T17:10:57.077616Z",
     "iopub.status.idle": "2022-02-22T17:10:57.091020Z",
     "shell.execute_reply": "2022-02-22T17:10:57.091443Z",
     "shell.execute_reply.started": "2022-02-22T15:40:59.082312Z"
    },
    "papermill": {
     "duration": 0.038382,
     "end_time": "2022-02-22T17:10:57.091569",
     "exception": false,
     "start_time": "2022-02-22T17:10:57.053187",
     "status": "completed"
    },
    "tags": []
   },
   "outputs": [
    {
     "data": {
      "text/html": [
       "<div>\n",
       "<style scoped>\n",
       "    .dataframe tbody tr th:only-of-type {\n",
       "        vertical-align: middle;\n",
       "    }\n",
       "\n",
       "    .dataframe tbody tr th {\n",
       "        vertical-align: top;\n",
       "    }\n",
       "\n",
       "    .dataframe thead th {\n",
       "        text-align: right;\n",
       "    }\n",
       "</style>\n",
       "<table border=\"1\" class=\"dataframe\">\n",
       "  <thead>\n",
       "    <tr style=\"text-align: right;\">\n",
       "      <th></th>\n",
       "      <th>date</th>\n",
       "      <th>date_block_num</th>\n",
       "      <th>shop_id</th>\n",
       "      <th>item_id</th>\n",
       "      <th>item_price</th>\n",
       "      <th>item_cnt_day</th>\n",
       "    </tr>\n",
       "  </thead>\n",
       "  <tbody>\n",
       "    <tr>\n",
       "      <th>0</th>\n",
       "      <td>02.01.2013</td>\n",
       "      <td>0</td>\n",
       "      <td>59</td>\n",
       "      <td>22154</td>\n",
       "      <td>999.00</td>\n",
       "      <td>1.0</td>\n",
       "    </tr>\n",
       "    <tr>\n",
       "      <th>1</th>\n",
       "      <td>03.01.2013</td>\n",
       "      <td>0</td>\n",
       "      <td>25</td>\n",
       "      <td>2552</td>\n",
       "      <td>899.00</td>\n",
       "      <td>1.0</td>\n",
       "    </tr>\n",
       "    <tr>\n",
       "      <th>2</th>\n",
       "      <td>05.01.2013</td>\n",
       "      <td>0</td>\n",
       "      <td>25</td>\n",
       "      <td>2552</td>\n",
       "      <td>899.00</td>\n",
       "      <td>-1.0</td>\n",
       "    </tr>\n",
       "    <tr>\n",
       "      <th>3</th>\n",
       "      <td>06.01.2013</td>\n",
       "      <td>0</td>\n",
       "      <td>25</td>\n",
       "      <td>2554</td>\n",
       "      <td>1709.05</td>\n",
       "      <td>1.0</td>\n",
       "    </tr>\n",
       "    <tr>\n",
       "      <th>4</th>\n",
       "      <td>15.01.2013</td>\n",
       "      <td>0</td>\n",
       "      <td>25</td>\n",
       "      <td>2555</td>\n",
       "      <td>1099.00</td>\n",
       "      <td>1.0</td>\n",
       "    </tr>\n",
       "  </tbody>\n",
       "</table>\n",
       "</div>"
      ],
      "text/plain": [
       "         date  date_block_num  shop_id  item_id  item_price  item_cnt_day\n",
       "0  02.01.2013               0       59    22154      999.00           1.0\n",
       "1  03.01.2013               0       25     2552      899.00           1.0\n",
       "2  05.01.2013               0       25     2552      899.00          -1.0\n",
       "3  06.01.2013               0       25     2554     1709.05           1.0\n",
       "4  15.01.2013               0       25     2555     1099.00           1.0"
      ]
     },
     "execution_count": 3,
     "metadata": {},
     "output_type": "execute_result"
    }
   ],
   "source": [
    "train_data.head()"
   ]
  },
  {
   "cell_type": "code",
   "execution_count": 4,
   "id": "5f94beef",
   "metadata": {
    "execution": {
     "iopub.execute_input": "2022-02-22T17:10:57.134139Z",
     "iopub.status.busy": "2022-02-22T17:10:57.133449Z",
     "iopub.status.idle": "2022-02-22T17:10:57.136199Z",
     "shell.execute_reply": "2022-02-22T17:10:57.136600Z",
     "shell.execute_reply.started": "2022-02-22T15:40:59.105857Z"
    },
    "papermill": {
     "duration": 0.026677,
     "end_time": "2022-02-22T17:10:57.136716",
     "exception": false,
     "start_time": "2022-02-22T17:10:57.110039",
     "status": "completed"
    },
    "tags": []
   },
   "outputs": [
    {
     "data": {
      "text/html": [
       "<div>\n",
       "<style scoped>\n",
       "    .dataframe tbody tr th:only-of-type {\n",
       "        vertical-align: middle;\n",
       "    }\n",
       "\n",
       "    .dataframe tbody tr th {\n",
       "        vertical-align: top;\n",
       "    }\n",
       "\n",
       "    .dataframe thead th {\n",
       "        text-align: right;\n",
       "    }\n",
       "</style>\n",
       "<table border=\"1\" class=\"dataframe\">\n",
       "  <thead>\n",
       "    <tr style=\"text-align: right;\">\n",
       "      <th></th>\n",
       "      <th>ID</th>\n",
       "      <th>shop_id</th>\n",
       "      <th>item_id</th>\n",
       "    </tr>\n",
       "  </thead>\n",
       "  <tbody>\n",
       "    <tr>\n",
       "      <th>0</th>\n",
       "      <td>0</td>\n",
       "      <td>5</td>\n",
       "      <td>5037</td>\n",
       "    </tr>\n",
       "    <tr>\n",
       "      <th>1</th>\n",
       "      <td>1</td>\n",
       "      <td>5</td>\n",
       "      <td>5320</td>\n",
       "    </tr>\n",
       "    <tr>\n",
       "      <th>2</th>\n",
       "      <td>2</td>\n",
       "      <td>5</td>\n",
       "      <td>5233</td>\n",
       "    </tr>\n",
       "    <tr>\n",
       "      <th>3</th>\n",
       "      <td>3</td>\n",
       "      <td>5</td>\n",
       "      <td>5232</td>\n",
       "    </tr>\n",
       "    <tr>\n",
       "      <th>4</th>\n",
       "      <td>4</td>\n",
       "      <td>5</td>\n",
       "      <td>5268</td>\n",
       "    </tr>\n",
       "  </tbody>\n",
       "</table>\n",
       "</div>"
      ],
      "text/plain": [
       "   ID  shop_id  item_id\n",
       "0   0        5     5037\n",
       "1   1        5     5320\n",
       "2   2        5     5233\n",
       "3   3        5     5232\n",
       "4   4        5     5268"
      ]
     },
     "execution_count": 4,
     "metadata": {},
     "output_type": "execute_result"
    }
   ],
   "source": [
    "test_data.head()"
   ]
  },
  {
   "cell_type": "markdown",
   "id": "bc022111",
   "metadata": {
    "papermill": {
     "duration": 0.017465,
     "end_time": "2022-02-22T17:10:57.171607",
     "exception": false,
     "start_time": "2022-02-22T17:10:57.154142",
     "status": "completed"
    },
    "tags": []
   },
   "source": [
    "## 2. Data exploration"
   ]
  },
  {
   "cell_type": "markdown",
   "id": "3e327ab7",
   "metadata": {
    "papermill": {
     "duration": 0.017569,
     "end_time": "2022-02-22T17:10:57.206720",
     "exception": false,
     "start_time": "2022-02-22T17:10:57.189151",
     "status": "completed"
    },
    "tags": []
   },
   "source": [
    "#### Check NaN"
   ]
  },
  {
   "cell_type": "code",
   "execution_count": 5,
   "id": "98f696da",
   "metadata": {
    "execution": {
     "iopub.execute_input": "2022-02-22T17:10:57.246335Z",
     "iopub.status.busy": "2022-02-22T17:10:57.245235Z",
     "iopub.status.idle": "2022-02-22T17:10:57.601527Z",
     "shell.execute_reply": "2022-02-22T17:10:57.602010Z",
     "shell.execute_reply.started": "2022-02-22T15:40:59.117437Z"
    },
    "papermill": {
     "duration": 0.378211,
     "end_time": "2022-02-22T17:10:57.602324",
     "exception": false,
     "start_time": "2022-02-22T17:10:57.224113",
     "status": "completed"
    },
    "tags": []
   },
   "outputs": [
    {
     "data": {
      "text/plain": [
       "date              0\n",
       "date_block_num    0\n",
       "shop_id           0\n",
       "item_id           0\n",
       "item_price        0\n",
       "item_cnt_day      0\n",
       "dtype: int64"
      ]
     },
     "execution_count": 5,
     "metadata": {},
     "output_type": "execute_result"
    }
   ],
   "source": [
    "#Copy the train_data\n",
    "train_Data = train_data.copy() \n",
    "\n",
    "#Check NaN\n",
    "train_Data.isna().sum() "
   ]
  },
  {
   "cell_type": "markdown",
   "id": "3ca42b28",
   "metadata": {
    "papermill": {
     "duration": 0.017833,
     "end_time": "2022-02-22T17:10:57.639670",
     "exception": false,
     "start_time": "2022-02-22T17:10:57.621837",
     "status": "completed"
    },
    "tags": []
   },
   "source": [
    "## 3. Create a pivot tabel"
   ]
  },
  {
   "cell_type": "code",
   "execution_count": 6,
   "id": "b58b0833",
   "metadata": {
    "execution": {
     "iopub.execute_input": "2022-02-22T17:10:57.729873Z",
     "iopub.status.busy": "2022-02-22T17:10:57.728991Z",
     "iopub.status.idle": "2022-02-22T17:11:00.302550Z",
     "shell.execute_reply": "2022-02-22T17:11:00.301639Z",
     "shell.execute_reply.started": "2022-02-22T15:40:59.477144Z"
    },
    "papermill": {
     "duration": 2.645045,
     "end_time": "2022-02-22T17:11:00.302693",
     "exception": false,
     "start_time": "2022-02-22T17:10:57.657648",
     "status": "completed"
    },
    "tags": []
   },
   "outputs": [],
   "source": [
    "train_Data = train_Data.pivot_table(index = ['shop_id','item_id'],values = ['item_cnt_day'],columns = ['date_block_num'],fill_value = 0,aggfunc='sum') "
   ]
  },
  {
   "cell_type": "code",
   "execution_count": 7,
   "id": "af625267",
   "metadata": {
    "execution": {
     "iopub.execute_input": "2022-02-22T17:11:00.362964Z",
     "iopub.status.busy": "2022-02-22T17:11:00.355584Z",
     "iopub.status.idle": "2022-02-22T17:11:00.367309Z",
     "shell.execute_reply": "2022-02-22T17:11:00.366912Z",
     "shell.execute_reply.started": "2022-02-22T15:41:02.15416Z"
    },
    "papermill": {
     "duration": 0.046167,
     "end_time": "2022-02-22T17:11:00.367446",
     "exception": false,
     "start_time": "2022-02-22T17:11:00.321279",
     "status": "completed"
    },
    "tags": []
   },
   "outputs": [
    {
     "data": {
      "text/html": [
       "<div>\n",
       "<style scoped>\n",
       "    .dataframe tbody tr th:only-of-type {\n",
       "        vertical-align: middle;\n",
       "    }\n",
       "\n",
       "    .dataframe tbody tr th {\n",
       "        vertical-align: top;\n",
       "    }\n",
       "\n",
       "    .dataframe thead tr th {\n",
       "        text-align: left;\n",
       "    }\n",
       "\n",
       "    .dataframe thead tr:last-of-type th {\n",
       "        text-align: right;\n",
       "    }\n",
       "</style>\n",
       "<table border=\"1\" class=\"dataframe\">\n",
       "  <thead>\n",
       "    <tr>\n",
       "      <th></th>\n",
       "      <th></th>\n",
       "      <th colspan=\"21\" halign=\"left\">item_cnt_day</th>\n",
       "    </tr>\n",
       "    <tr>\n",
       "      <th></th>\n",
       "      <th>date_block_num</th>\n",
       "      <th>0</th>\n",
       "      <th>1</th>\n",
       "      <th>2</th>\n",
       "      <th>3</th>\n",
       "      <th>4</th>\n",
       "      <th>5</th>\n",
       "      <th>6</th>\n",
       "      <th>7</th>\n",
       "      <th>8</th>\n",
       "      <th>9</th>\n",
       "      <th>...</th>\n",
       "      <th>24</th>\n",
       "      <th>25</th>\n",
       "      <th>26</th>\n",
       "      <th>27</th>\n",
       "      <th>28</th>\n",
       "      <th>29</th>\n",
       "      <th>30</th>\n",
       "      <th>31</th>\n",
       "      <th>32</th>\n",
       "      <th>33</th>\n",
       "    </tr>\n",
       "    <tr>\n",
       "      <th>shop_id</th>\n",
       "      <th>item_id</th>\n",
       "      <th></th>\n",
       "      <th></th>\n",
       "      <th></th>\n",
       "      <th></th>\n",
       "      <th></th>\n",
       "      <th></th>\n",
       "      <th></th>\n",
       "      <th></th>\n",
       "      <th></th>\n",
       "      <th></th>\n",
       "      <th></th>\n",
       "      <th></th>\n",
       "      <th></th>\n",
       "      <th></th>\n",
       "      <th></th>\n",
       "      <th></th>\n",
       "      <th></th>\n",
       "      <th></th>\n",
       "      <th></th>\n",
       "      <th></th>\n",
       "      <th></th>\n",
       "    </tr>\n",
       "  </thead>\n",
       "  <tbody>\n",
       "    <tr>\n",
       "      <th rowspan=\"5\" valign=\"top\">0</th>\n",
       "      <th>30</th>\n",
       "      <td>0</td>\n",
       "      <td>31</td>\n",
       "      <td>0</td>\n",
       "      <td>0</td>\n",
       "      <td>0</td>\n",
       "      <td>0</td>\n",
       "      <td>0</td>\n",
       "      <td>0</td>\n",
       "      <td>0</td>\n",
       "      <td>0</td>\n",
       "      <td>...</td>\n",
       "      <td>0</td>\n",
       "      <td>0</td>\n",
       "      <td>0</td>\n",
       "      <td>0</td>\n",
       "      <td>0</td>\n",
       "      <td>0</td>\n",
       "      <td>0</td>\n",
       "      <td>0</td>\n",
       "      <td>0</td>\n",
       "      <td>0</td>\n",
       "    </tr>\n",
       "    <tr>\n",
       "      <th>31</th>\n",
       "      <td>0</td>\n",
       "      <td>11</td>\n",
       "      <td>0</td>\n",
       "      <td>0</td>\n",
       "      <td>0</td>\n",
       "      <td>0</td>\n",
       "      <td>0</td>\n",
       "      <td>0</td>\n",
       "      <td>0</td>\n",
       "      <td>0</td>\n",
       "      <td>...</td>\n",
       "      <td>0</td>\n",
       "      <td>0</td>\n",
       "      <td>0</td>\n",
       "      <td>0</td>\n",
       "      <td>0</td>\n",
       "      <td>0</td>\n",
       "      <td>0</td>\n",
       "      <td>0</td>\n",
       "      <td>0</td>\n",
       "      <td>0</td>\n",
       "    </tr>\n",
       "    <tr>\n",
       "      <th>32</th>\n",
       "      <td>6</td>\n",
       "      <td>10</td>\n",
       "      <td>0</td>\n",
       "      <td>0</td>\n",
       "      <td>0</td>\n",
       "      <td>0</td>\n",
       "      <td>0</td>\n",
       "      <td>0</td>\n",
       "      <td>0</td>\n",
       "      <td>0</td>\n",
       "      <td>...</td>\n",
       "      <td>0</td>\n",
       "      <td>0</td>\n",
       "      <td>0</td>\n",
       "      <td>0</td>\n",
       "      <td>0</td>\n",
       "      <td>0</td>\n",
       "      <td>0</td>\n",
       "      <td>0</td>\n",
       "      <td>0</td>\n",
       "      <td>0</td>\n",
       "    </tr>\n",
       "    <tr>\n",
       "      <th>33</th>\n",
       "      <td>3</td>\n",
       "      <td>3</td>\n",
       "      <td>0</td>\n",
       "      <td>0</td>\n",
       "      <td>0</td>\n",
       "      <td>0</td>\n",
       "      <td>0</td>\n",
       "      <td>0</td>\n",
       "      <td>0</td>\n",
       "      <td>0</td>\n",
       "      <td>...</td>\n",
       "      <td>0</td>\n",
       "      <td>0</td>\n",
       "      <td>0</td>\n",
       "      <td>0</td>\n",
       "      <td>0</td>\n",
       "      <td>0</td>\n",
       "      <td>0</td>\n",
       "      <td>0</td>\n",
       "      <td>0</td>\n",
       "      <td>0</td>\n",
       "    </tr>\n",
       "    <tr>\n",
       "      <th>35</th>\n",
       "      <td>1</td>\n",
       "      <td>14</td>\n",
       "      <td>0</td>\n",
       "      <td>0</td>\n",
       "      <td>0</td>\n",
       "      <td>0</td>\n",
       "      <td>0</td>\n",
       "      <td>0</td>\n",
       "      <td>0</td>\n",
       "      <td>0</td>\n",
       "      <td>...</td>\n",
       "      <td>0</td>\n",
       "      <td>0</td>\n",
       "      <td>0</td>\n",
       "      <td>0</td>\n",
       "      <td>0</td>\n",
       "      <td>0</td>\n",
       "      <td>0</td>\n",
       "      <td>0</td>\n",
       "      <td>0</td>\n",
       "      <td>0</td>\n",
       "    </tr>\n",
       "  </tbody>\n",
       "</table>\n",
       "<p>5 rows × 34 columns</p>\n",
       "</div>"
      ],
      "text/plain": [
       "                item_cnt_day                              ...                 \\\n",
       "date_block_num            0   1  2  3  4  5  6  7  8  9   ... 24 25 26 27 28   \n",
       "shop_id item_id                                           ...                  \n",
       "0       30                 0  31  0  0  0  0  0  0  0  0  ...  0  0  0  0  0   \n",
       "        31                 0  11  0  0  0  0  0  0  0  0  ...  0  0  0  0  0   \n",
       "        32                 6  10  0  0  0  0  0  0  0  0  ...  0  0  0  0  0   \n",
       "        33                 3   3  0  0  0  0  0  0  0  0  ...  0  0  0  0  0   \n",
       "        35                 1  14  0  0  0  0  0  0  0  0  ...  0  0  0  0  0   \n",
       "\n",
       "                                \n",
       "date_block_num  29 30 31 32 33  \n",
       "shop_id item_id                 \n",
       "0       30       0  0  0  0  0  \n",
       "        31       0  0  0  0  0  \n",
       "        32       0  0  0  0  0  \n",
       "        33       0  0  0  0  0  \n",
       "        35       0  0  0  0  0  \n",
       "\n",
       "[5 rows x 34 columns]"
      ]
     },
     "execution_count": 7,
     "metadata": {},
     "output_type": "execute_result"
    }
   ],
   "source": [
    "train_Data.head() "
   ]
  },
  {
   "cell_type": "code",
   "execution_count": 8,
   "id": "a16a500f",
   "metadata": {
    "execution": {
     "iopub.execute_input": "2022-02-22T17:11:00.411061Z",
     "iopub.status.busy": "2022-02-22T17:11:00.410436Z",
     "iopub.status.idle": "2022-02-22T17:11:00.413517Z",
     "shell.execute_reply": "2022-02-22T17:11:00.413961Z",
     "shell.execute_reply.started": "2022-02-22T15:41:02.178891Z"
    },
    "papermill": {
     "duration": 0.027994,
     "end_time": "2022-02-22T17:11:00.414093",
     "exception": false,
     "start_time": "2022-02-22T17:11:00.386099",
     "status": "completed"
    },
    "tags": []
   },
   "outputs": [
    {
     "data": {
      "text/plain": [
       "MultiIndex([('item_cnt_day',  0),\n",
       "            ('item_cnt_day',  1),\n",
       "            ('item_cnt_day',  2),\n",
       "            ('item_cnt_day',  3),\n",
       "            ('item_cnt_day',  4),\n",
       "            ('item_cnt_day',  5),\n",
       "            ('item_cnt_day',  6),\n",
       "            ('item_cnt_day',  7),\n",
       "            ('item_cnt_day',  8),\n",
       "            ('item_cnt_day',  9),\n",
       "            ('item_cnt_day', 10),\n",
       "            ('item_cnt_day', 11),\n",
       "            ('item_cnt_day', 12),\n",
       "            ('item_cnt_day', 13),\n",
       "            ('item_cnt_day', 14),\n",
       "            ('item_cnt_day', 15),\n",
       "            ('item_cnt_day', 16),\n",
       "            ('item_cnt_day', 17),\n",
       "            ('item_cnt_day', 18),\n",
       "            ('item_cnt_day', 19),\n",
       "            ('item_cnt_day', 20),\n",
       "            ('item_cnt_day', 21),\n",
       "            ('item_cnt_day', 22),\n",
       "            ('item_cnt_day', 23),\n",
       "            ('item_cnt_day', 24),\n",
       "            ('item_cnt_day', 25),\n",
       "            ('item_cnt_day', 26),\n",
       "            ('item_cnt_day', 27),\n",
       "            ('item_cnt_day', 28),\n",
       "            ('item_cnt_day', 29),\n",
       "            ('item_cnt_day', 30),\n",
       "            ('item_cnt_day', 31),\n",
       "            ('item_cnt_day', 32),\n",
       "            ('item_cnt_day', 33)],\n",
       "           names=[None, 'date_block_num'])"
      ]
     },
     "execution_count": 8,
     "metadata": {},
     "output_type": "execute_result"
    }
   ],
   "source": [
    "train_Data.columns"
   ]
  },
  {
   "cell_type": "code",
   "execution_count": 9,
   "id": "8af939b6",
   "metadata": {
    "execution": {
     "iopub.execute_input": "2022-02-22T17:11:00.456472Z",
     "iopub.status.busy": "2022-02-22T17:11:00.455696Z",
     "iopub.status.idle": "2022-02-22T17:11:00.700607Z",
     "shell.execute_reply": "2022-02-22T17:11:00.701186Z",
     "shell.execute_reply.started": "2022-02-22T15:41:02.193047Z"
    },
    "papermill": {
     "duration": 0.268702,
     "end_time": "2022-02-22T17:11:00.701406",
     "exception": false,
     "start_time": "2022-02-22T17:11:00.432704",
     "status": "completed"
    },
    "tags": []
   },
   "outputs": [
    {
     "name": "stderr",
     "output_type": "stream",
     "text": [
      "/opt/conda/lib/python3.7/site-packages/ipykernel_launcher.py:4: FutureWarning: merging between different levels is deprecated and will be removed in a future version. (1 levels on the left,2 on the right)\n",
      "  after removing the cwd from sys.path.\n"
     ]
    }
   ],
   "source": [
    "#Combine the test_data to train_Data_Nov for prediction\n",
    "test_Data = test_data.copy()\n",
    "test_Data = test_Data.pivot_table(index = ['shop_id','item_id'],fill_value = 0)\n",
    "Combine_train_test = pd.merge(test_Data, train_Data, how = 'left', on = ['shop_id','item_id']).fillna(0)"
   ]
  },
  {
   "cell_type": "code",
   "execution_count": 10,
   "id": "7e43a125",
   "metadata": {
    "execution": {
     "iopub.execute_input": "2022-02-22T17:11:00.745195Z",
     "iopub.status.busy": "2022-02-22T17:11:00.744325Z",
     "iopub.status.idle": "2022-02-22T17:11:00.782297Z",
     "shell.execute_reply": "2022-02-22T17:11:00.781873Z",
     "shell.execute_reply.started": "2022-02-22T15:41:02.445864Z"
    },
    "papermill": {
     "duration": 0.060618,
     "end_time": "2022-02-22T17:11:00.782425",
     "exception": false,
     "start_time": "2022-02-22T17:11:00.721807",
     "status": "completed"
    },
    "tags": []
   },
   "outputs": [],
   "source": [
    "Combine_train_test = Combine_train_test.sort_values(by = 'ID')"
   ]
  },
  {
   "cell_type": "code",
   "execution_count": 11,
   "id": "773d7dee",
   "metadata": {
    "execution": {
     "iopub.execute_input": "2022-02-22T17:11:00.865222Z",
     "iopub.status.busy": "2022-02-22T17:11:00.864430Z",
     "iopub.status.idle": "2022-02-22T17:11:00.867947Z",
     "shell.execute_reply": "2022-02-22T17:11:00.868334Z",
     "shell.execute_reply.started": "2022-02-22T15:41:02.487322Z"
    },
    "papermill": {
     "duration": 0.066875,
     "end_time": "2022-02-22T17:11:00.868477",
     "exception": false,
     "start_time": "2022-02-22T17:11:00.801602",
     "status": "completed"
    },
    "tags": []
   },
   "outputs": [
    {
     "data": {
      "text/html": [
       "<div>\n",
       "<style scoped>\n",
       "    .dataframe tbody tr th:only-of-type {\n",
       "        vertical-align: middle;\n",
       "    }\n",
       "\n",
       "    .dataframe tbody tr th {\n",
       "        vertical-align: top;\n",
       "    }\n",
       "\n",
       "    .dataframe thead th {\n",
       "        text-align: right;\n",
       "    }\n",
       "</style>\n",
       "<table border=\"1\" class=\"dataframe\">\n",
       "  <thead>\n",
       "    <tr style=\"text-align: right;\">\n",
       "      <th></th>\n",
       "      <th></th>\n",
       "      <th>ID</th>\n",
       "      <th>(item_cnt_day, 0)</th>\n",
       "      <th>(item_cnt_day, 1)</th>\n",
       "      <th>(item_cnt_day, 2)</th>\n",
       "      <th>(item_cnt_day, 3)</th>\n",
       "      <th>(item_cnt_day, 4)</th>\n",
       "      <th>(item_cnt_day, 5)</th>\n",
       "      <th>(item_cnt_day, 6)</th>\n",
       "      <th>(item_cnt_day, 7)</th>\n",
       "      <th>(item_cnt_day, 8)</th>\n",
       "      <th>...</th>\n",
       "      <th>(item_cnt_day, 24)</th>\n",
       "      <th>(item_cnt_day, 25)</th>\n",
       "      <th>(item_cnt_day, 26)</th>\n",
       "      <th>(item_cnt_day, 27)</th>\n",
       "      <th>(item_cnt_day, 28)</th>\n",
       "      <th>(item_cnt_day, 29)</th>\n",
       "      <th>(item_cnt_day, 30)</th>\n",
       "      <th>(item_cnt_day, 31)</th>\n",
       "      <th>(item_cnt_day, 32)</th>\n",
       "      <th>(item_cnt_day, 33)</th>\n",
       "    </tr>\n",
       "    <tr>\n",
       "      <th>shop_id</th>\n",
       "      <th>item_id</th>\n",
       "      <th></th>\n",
       "      <th></th>\n",
       "      <th></th>\n",
       "      <th></th>\n",
       "      <th></th>\n",
       "      <th></th>\n",
       "      <th></th>\n",
       "      <th></th>\n",
       "      <th></th>\n",
       "      <th></th>\n",
       "      <th></th>\n",
       "      <th></th>\n",
       "      <th></th>\n",
       "      <th></th>\n",
       "      <th></th>\n",
       "      <th></th>\n",
       "      <th></th>\n",
       "      <th></th>\n",
       "      <th></th>\n",
       "      <th></th>\n",
       "      <th></th>\n",
       "    </tr>\n",
       "  </thead>\n",
       "  <tbody>\n",
       "    <tr>\n",
       "      <th rowspan=\"10\" valign=\"top\">5</th>\n",
       "      <th>5037</th>\n",
       "      <td>0</td>\n",
       "      <td>0.0</td>\n",
       "      <td>0.0</td>\n",
       "      <td>0.0</td>\n",
       "      <td>0.0</td>\n",
       "      <td>0.0</td>\n",
       "      <td>0.0</td>\n",
       "      <td>0.0</td>\n",
       "      <td>0.0</td>\n",
       "      <td>0.0</td>\n",
       "      <td>...</td>\n",
       "      <td>2.0</td>\n",
       "      <td>0.0</td>\n",
       "      <td>0.0</td>\n",
       "      <td>0.0</td>\n",
       "      <td>1.0</td>\n",
       "      <td>1.0</td>\n",
       "      <td>1.0</td>\n",
       "      <td>3.0</td>\n",
       "      <td>1.0</td>\n",
       "      <td>0.0</td>\n",
       "    </tr>\n",
       "    <tr>\n",
       "      <th>5320</th>\n",
       "      <td>1</td>\n",
       "      <td>0.0</td>\n",
       "      <td>0.0</td>\n",
       "      <td>0.0</td>\n",
       "      <td>0.0</td>\n",
       "      <td>0.0</td>\n",
       "      <td>0.0</td>\n",
       "      <td>0.0</td>\n",
       "      <td>0.0</td>\n",
       "      <td>0.0</td>\n",
       "      <td>...</td>\n",
       "      <td>0.0</td>\n",
       "      <td>0.0</td>\n",
       "      <td>0.0</td>\n",
       "      <td>0.0</td>\n",
       "      <td>0.0</td>\n",
       "      <td>0.0</td>\n",
       "      <td>0.0</td>\n",
       "      <td>0.0</td>\n",
       "      <td>0.0</td>\n",
       "      <td>0.0</td>\n",
       "    </tr>\n",
       "    <tr>\n",
       "      <th>5233</th>\n",
       "      <td>2</td>\n",
       "      <td>0.0</td>\n",
       "      <td>0.0</td>\n",
       "      <td>0.0</td>\n",
       "      <td>0.0</td>\n",
       "      <td>0.0</td>\n",
       "      <td>0.0</td>\n",
       "      <td>0.0</td>\n",
       "      <td>0.0</td>\n",
       "      <td>0.0</td>\n",
       "      <td>...</td>\n",
       "      <td>0.0</td>\n",
       "      <td>0.0</td>\n",
       "      <td>0.0</td>\n",
       "      <td>0.0</td>\n",
       "      <td>3.0</td>\n",
       "      <td>2.0</td>\n",
       "      <td>0.0</td>\n",
       "      <td>1.0</td>\n",
       "      <td>3.0</td>\n",
       "      <td>1.0</td>\n",
       "    </tr>\n",
       "    <tr>\n",
       "      <th>5232</th>\n",
       "      <td>3</td>\n",
       "      <td>0.0</td>\n",
       "      <td>0.0</td>\n",
       "      <td>0.0</td>\n",
       "      <td>0.0</td>\n",
       "      <td>0.0</td>\n",
       "      <td>0.0</td>\n",
       "      <td>0.0</td>\n",
       "      <td>0.0</td>\n",
       "      <td>0.0</td>\n",
       "      <td>...</td>\n",
       "      <td>0.0</td>\n",
       "      <td>0.0</td>\n",
       "      <td>0.0</td>\n",
       "      <td>0.0</td>\n",
       "      <td>0.0</td>\n",
       "      <td>0.0</td>\n",
       "      <td>0.0</td>\n",
       "      <td>1.0</td>\n",
       "      <td>0.0</td>\n",
       "      <td>0.0</td>\n",
       "    </tr>\n",
       "    <tr>\n",
       "      <th>5268</th>\n",
       "      <td>4</td>\n",
       "      <td>0.0</td>\n",
       "      <td>0.0</td>\n",
       "      <td>0.0</td>\n",
       "      <td>0.0</td>\n",
       "      <td>0.0</td>\n",
       "      <td>0.0</td>\n",
       "      <td>0.0</td>\n",
       "      <td>0.0</td>\n",
       "      <td>0.0</td>\n",
       "      <td>...</td>\n",
       "      <td>0.0</td>\n",
       "      <td>0.0</td>\n",
       "      <td>0.0</td>\n",
       "      <td>0.0</td>\n",
       "      <td>0.0</td>\n",
       "      <td>0.0</td>\n",
       "      <td>0.0</td>\n",
       "      <td>0.0</td>\n",
       "      <td>0.0</td>\n",
       "      <td>0.0</td>\n",
       "    </tr>\n",
       "    <tr>\n",
       "      <th>5039</th>\n",
       "      <td>5</td>\n",
       "      <td>0.0</td>\n",
       "      <td>0.0</td>\n",
       "      <td>0.0</td>\n",
       "      <td>0.0</td>\n",
       "      <td>0.0</td>\n",
       "      <td>0.0</td>\n",
       "      <td>0.0</td>\n",
       "      <td>0.0</td>\n",
       "      <td>0.0</td>\n",
       "      <td>...</td>\n",
       "      <td>1.0</td>\n",
       "      <td>0.0</td>\n",
       "      <td>0.0</td>\n",
       "      <td>0.0</td>\n",
       "      <td>3.0</td>\n",
       "      <td>0.0</td>\n",
       "      <td>0.0</td>\n",
       "      <td>0.0</td>\n",
       "      <td>1.0</td>\n",
       "      <td>1.0</td>\n",
       "    </tr>\n",
       "    <tr>\n",
       "      <th>5041</th>\n",
       "      <td>6</td>\n",
       "      <td>0.0</td>\n",
       "      <td>0.0</td>\n",
       "      <td>0.0</td>\n",
       "      <td>0.0</td>\n",
       "      <td>0.0</td>\n",
       "      <td>0.0</td>\n",
       "      <td>0.0</td>\n",
       "      <td>0.0</td>\n",
       "      <td>0.0</td>\n",
       "      <td>...</td>\n",
       "      <td>0.0</td>\n",
       "      <td>0.0</td>\n",
       "      <td>0.0</td>\n",
       "      <td>0.0</td>\n",
       "      <td>0.0</td>\n",
       "      <td>0.0</td>\n",
       "      <td>0.0</td>\n",
       "      <td>0.0</td>\n",
       "      <td>3.0</td>\n",
       "      <td>2.0</td>\n",
       "    </tr>\n",
       "    <tr>\n",
       "      <th>5046</th>\n",
       "      <td>7</td>\n",
       "      <td>0.0</td>\n",
       "      <td>0.0</td>\n",
       "      <td>0.0</td>\n",
       "      <td>0.0</td>\n",
       "      <td>0.0</td>\n",
       "      <td>0.0</td>\n",
       "      <td>0.0</td>\n",
       "      <td>0.0</td>\n",
       "      <td>0.0</td>\n",
       "      <td>...</td>\n",
       "      <td>0.0</td>\n",
       "      <td>0.0</td>\n",
       "      <td>1.0</td>\n",
       "      <td>0.0</td>\n",
       "      <td>0.0</td>\n",
       "      <td>1.0</td>\n",
       "      <td>0.0</td>\n",
       "      <td>0.0</td>\n",
       "      <td>0.0</td>\n",
       "      <td>0.0</td>\n",
       "    </tr>\n",
       "    <tr>\n",
       "      <th>5319</th>\n",
       "      <td>8</td>\n",
       "      <td>0.0</td>\n",
       "      <td>0.0</td>\n",
       "      <td>0.0</td>\n",
       "      <td>0.0</td>\n",
       "      <td>0.0</td>\n",
       "      <td>0.0</td>\n",
       "      <td>0.0</td>\n",
       "      <td>0.0</td>\n",
       "      <td>0.0</td>\n",
       "      <td>...</td>\n",
       "      <td>9.0</td>\n",
       "      <td>2.0</td>\n",
       "      <td>3.0</td>\n",
       "      <td>2.0</td>\n",
       "      <td>2.0</td>\n",
       "      <td>4.0</td>\n",
       "      <td>3.0</td>\n",
       "      <td>2.0</td>\n",
       "      <td>3.0</td>\n",
       "      <td>0.0</td>\n",
       "    </tr>\n",
       "    <tr>\n",
       "      <th>5003</th>\n",
       "      <td>9</td>\n",
       "      <td>0.0</td>\n",
       "      <td>0.0</td>\n",
       "      <td>0.0</td>\n",
       "      <td>0.0</td>\n",
       "      <td>0.0</td>\n",
       "      <td>0.0</td>\n",
       "      <td>0.0</td>\n",
       "      <td>0.0</td>\n",
       "      <td>0.0</td>\n",
       "      <td>...</td>\n",
       "      <td>0.0</td>\n",
       "      <td>0.0</td>\n",
       "      <td>0.0</td>\n",
       "      <td>0.0</td>\n",
       "      <td>0.0</td>\n",
       "      <td>0.0</td>\n",
       "      <td>0.0</td>\n",
       "      <td>0.0</td>\n",
       "      <td>0.0</td>\n",
       "      <td>0.0</td>\n",
       "    </tr>\n",
       "  </tbody>\n",
       "</table>\n",
       "<p>10 rows × 35 columns</p>\n",
       "</div>"
      ],
      "text/plain": [
       "                 ID  (item_cnt_day, 0)  (item_cnt_day, 1)  (item_cnt_day, 2)  \\\n",
       "shop_id item_id                                                                \n",
       "5       5037      0                0.0                0.0                0.0   \n",
       "        5320      1                0.0                0.0                0.0   \n",
       "        5233      2                0.0                0.0                0.0   \n",
       "        5232      3                0.0                0.0                0.0   \n",
       "        5268      4                0.0                0.0                0.0   \n",
       "        5039      5                0.0                0.0                0.0   \n",
       "        5041      6                0.0                0.0                0.0   \n",
       "        5046      7                0.0                0.0                0.0   \n",
       "        5319      8                0.0                0.0                0.0   \n",
       "        5003      9                0.0                0.0                0.0   \n",
       "\n",
       "                 (item_cnt_day, 3)  (item_cnt_day, 4)  (item_cnt_day, 5)  \\\n",
       "shop_id item_id                                                            \n",
       "5       5037                   0.0                0.0                0.0   \n",
       "        5320                   0.0                0.0                0.0   \n",
       "        5233                   0.0                0.0                0.0   \n",
       "        5232                   0.0                0.0                0.0   \n",
       "        5268                   0.0                0.0                0.0   \n",
       "        5039                   0.0                0.0                0.0   \n",
       "        5041                   0.0                0.0                0.0   \n",
       "        5046                   0.0                0.0                0.0   \n",
       "        5319                   0.0                0.0                0.0   \n",
       "        5003                   0.0                0.0                0.0   \n",
       "\n",
       "                 (item_cnt_day, 6)  (item_cnt_day, 7)  (item_cnt_day, 8)  ...  \\\n",
       "shop_id item_id                                                           ...   \n",
       "5       5037                   0.0                0.0                0.0  ...   \n",
       "        5320                   0.0                0.0                0.0  ...   \n",
       "        5233                   0.0                0.0                0.0  ...   \n",
       "        5232                   0.0                0.0                0.0  ...   \n",
       "        5268                   0.0                0.0                0.0  ...   \n",
       "        5039                   0.0                0.0                0.0  ...   \n",
       "        5041                   0.0                0.0                0.0  ...   \n",
       "        5046                   0.0                0.0                0.0  ...   \n",
       "        5319                   0.0                0.0                0.0  ...   \n",
       "        5003                   0.0                0.0                0.0  ...   \n",
       "\n",
       "                 (item_cnt_day, 24)  (item_cnt_day, 25)  (item_cnt_day, 26)  \\\n",
       "shop_id item_id                                                               \n",
       "5       5037                    2.0                 0.0                 0.0   \n",
       "        5320                    0.0                 0.0                 0.0   \n",
       "        5233                    0.0                 0.0                 0.0   \n",
       "        5232                    0.0                 0.0                 0.0   \n",
       "        5268                    0.0                 0.0                 0.0   \n",
       "        5039                    1.0                 0.0                 0.0   \n",
       "        5041                    0.0                 0.0                 0.0   \n",
       "        5046                    0.0                 0.0                 1.0   \n",
       "        5319                    9.0                 2.0                 3.0   \n",
       "        5003                    0.0                 0.0                 0.0   \n",
       "\n",
       "                 (item_cnt_day, 27)  (item_cnt_day, 28)  (item_cnt_day, 29)  \\\n",
       "shop_id item_id                                                               \n",
       "5       5037                    0.0                 1.0                 1.0   \n",
       "        5320                    0.0                 0.0                 0.0   \n",
       "        5233                    0.0                 3.0                 2.0   \n",
       "        5232                    0.0                 0.0                 0.0   \n",
       "        5268                    0.0                 0.0                 0.0   \n",
       "        5039                    0.0                 3.0                 0.0   \n",
       "        5041                    0.0                 0.0                 0.0   \n",
       "        5046                    0.0                 0.0                 1.0   \n",
       "        5319                    2.0                 2.0                 4.0   \n",
       "        5003                    0.0                 0.0                 0.0   \n",
       "\n",
       "                 (item_cnt_day, 30)  (item_cnt_day, 31)  (item_cnt_day, 32)  \\\n",
       "shop_id item_id                                                               \n",
       "5       5037                    1.0                 3.0                 1.0   \n",
       "        5320                    0.0                 0.0                 0.0   \n",
       "        5233                    0.0                 1.0                 3.0   \n",
       "        5232                    0.0                 1.0                 0.0   \n",
       "        5268                    0.0                 0.0                 0.0   \n",
       "        5039                    0.0                 0.0                 1.0   \n",
       "        5041                    0.0                 0.0                 3.0   \n",
       "        5046                    0.0                 0.0                 0.0   \n",
       "        5319                    3.0                 2.0                 3.0   \n",
       "        5003                    0.0                 0.0                 0.0   \n",
       "\n",
       "                 (item_cnt_day, 33)  \n",
       "shop_id item_id                      \n",
       "5       5037                    0.0  \n",
       "        5320                    0.0  \n",
       "        5233                    1.0  \n",
       "        5232                    0.0  \n",
       "        5268                    0.0  \n",
       "        5039                    1.0  \n",
       "        5041                    2.0  \n",
       "        5046                    0.0  \n",
       "        5319                    0.0  \n",
       "        5003                    0.0  \n",
       "\n",
       "[10 rows x 35 columns]"
      ]
     },
     "execution_count": 11,
     "metadata": {},
     "output_type": "execute_result"
    }
   ],
   "source": [
    "Combine_train_test.head(10)"
   ]
  },
  {
   "cell_type": "markdown",
   "id": "189a4eb6",
   "metadata": {
    "papermill": {
     "duration": 0.019864,
     "end_time": "2022-02-22T17:11:00.908506",
     "exception": false,
     "start_time": "2022-02-22T17:11:00.888642",
     "status": "completed"
    },
    "tags": []
   },
   "source": [
    "## 4. Deep Learning"
   ]
  },
  {
   "cell_type": "markdown",
   "id": "97243b12",
   "metadata": {
    "papermill": {
     "duration": 0.019939,
     "end_time": "2022-02-22T17:11:00.948416",
     "exception": false,
     "start_time": "2022-02-22T17:11:00.928477",
     "status": "completed"
    },
    "tags": []
   },
   "source": [
    "### Split the training_data and training_target"
   ]
  },
  {
   "cell_type": "code",
   "execution_count": 12,
   "id": "8051294d",
   "metadata": {
    "execution": {
     "iopub.execute_input": "2022-02-22T17:11:00.992281Z",
     "iopub.status.busy": "2022-02-22T17:11:00.991545Z",
     "iopub.status.idle": "2022-02-22T17:11:00.994603Z",
     "shell.execute_reply": "2022-02-22T17:11:00.995116Z",
     "shell.execute_reply.started": "2022-02-22T15:41:02.536203Z"
    },
    "papermill": {
     "duration": 0.027198,
     "end_time": "2022-02-22T17:11:00.995234",
     "exception": false,
     "start_time": "2022-02-22T17:11:00.968036",
     "status": "completed"
    },
    "tags": []
   },
   "outputs": [
    {
     "data": {
      "text/plain": [
       "(2935849, 6)"
      ]
     },
     "execution_count": 12,
     "metadata": {},
     "output_type": "execute_result"
    }
   ],
   "source": [
    "train_data.shape"
   ]
  },
  {
   "cell_type": "code",
   "execution_count": 13,
   "id": "f528f262",
   "metadata": {
    "execution": {
     "iopub.execute_input": "2022-02-22T17:11:01.042945Z",
     "iopub.status.busy": "2022-02-22T17:11:01.038141Z",
     "iopub.status.idle": "2022-02-22T17:11:01.187161Z",
     "shell.execute_reply": "2022-02-22T17:11:01.186692Z",
     "shell.execute_reply.started": "2022-02-22T15:41:02.543434Z"
    },
    "papermill": {
     "duration": 0.172053,
     "end_time": "2022-02-22T17:11:01.187303",
     "exception": false,
     "start_time": "2022-02-22T17:11:01.015250",
     "status": "completed"
    },
    "tags": []
   },
   "outputs": [],
   "source": [
    "#Drop the ID\n",
    "Combine_train_test = Combine_train_test.drop(columns = ['ID'])\n",
    "\n",
    "#Train Data\n",
    "train_data = np.array(Combine_train_test.values[:,:-1]).reshape(np.array(Combine_train_test.values[:,:-1]).shape[0],np.array(Combine_train_test.values[:,:-1]).shape[1], 1)\n",
    "#The target \n",
    "train_target = Combine_train_test.values[:,-1:]\n",
    "\n",
    "test_data = np.array(Combine_train_test.values[:,1:]).reshape(np.array(Combine_train_test.values[:,1:]).shape[0],np.array(Combine_train_test.values[:,1:]).shape[1], 1)"
   ]
  },
  {
   "cell_type": "markdown",
   "id": "40c07379",
   "metadata": {
    "papermill": {
     "duration": 0.020219,
     "end_time": "2022-02-22T17:11:01.228044",
     "exception": false,
     "start_time": "2022-02-22T17:11:01.207825",
     "status": "completed"
    },
    "tags": []
   },
   "source": [
    "### Bulid the model"
   ]
  },
  {
   "cell_type": "code",
   "execution_count": 14,
   "id": "77baa28b",
   "metadata": {
    "execution": {
     "iopub.execute_input": "2022-02-22T17:11:01.272676Z",
     "iopub.status.busy": "2022-02-22T17:11:01.272068Z",
     "iopub.status.idle": "2022-02-22T17:11:05.654537Z",
     "shell.execute_reply": "2022-02-22T17:11:05.653548Z",
     "shell.execute_reply.started": "2022-02-22T15:41:02.69743Z"
    },
    "papermill": {
     "duration": 4.40636,
     "end_time": "2022-02-22T17:11:05.654705",
     "exception": false,
     "start_time": "2022-02-22T17:11:01.248345",
     "status": "completed"
    },
    "tags": []
   },
   "outputs": [],
   "source": [
    "from tensorflow.keras.models import Sequential\n",
    "from tensorflow.keras.layers import Dense, LSTM, Dropout, Conv1D, MaxPooling1D, TimeDistributed, Flatten"
   ]
  },
  {
   "cell_type": "code",
   "execution_count": 15,
   "id": "39bfc368",
   "metadata": {
    "execution": {
     "iopub.execute_input": "2022-02-22T17:11:05.705400Z",
     "iopub.status.busy": "2022-02-22T17:11:05.704712Z",
     "iopub.status.idle": "2022-02-22T17:11:08.608467Z",
     "shell.execute_reply": "2022-02-22T17:11:08.609064Z",
     "shell.execute_reply.started": "2022-02-22T15:41:07.463462Z"
    },
    "papermill": {
     "duration": 2.932092,
     "end_time": "2022-02-22T17:11:08.609225",
     "exception": false,
     "start_time": "2022-02-22T17:11:05.677133",
     "status": "completed"
    },
    "tags": []
   },
   "outputs": [
    {
     "name": "stderr",
     "output_type": "stream",
     "text": [
      "2022-02-22 17:11:05.774567: I tensorflow/stream_executor/cuda/cuda_gpu_executor.cc:937] successful NUMA node read from SysFS had negative value (-1), but there must be at least one NUMA node, so returning NUMA node zero\n",
      "2022-02-22 17:11:05.872594: I tensorflow/stream_executor/cuda/cuda_gpu_executor.cc:937] successful NUMA node read from SysFS had negative value (-1), but there must be at least one NUMA node, so returning NUMA node zero\n",
      "2022-02-22 17:11:05.873257: I tensorflow/stream_executor/cuda/cuda_gpu_executor.cc:937] successful NUMA node read from SysFS had negative value (-1), but there must be at least one NUMA node, so returning NUMA node zero\n",
      "2022-02-22 17:11:05.874327: I tensorflow/core/platform/cpu_feature_guard.cc:142] This TensorFlow binary is optimized with oneAPI Deep Neural Network Library (oneDNN) to use the following CPU instructions in performance-critical operations:  AVX2 AVX512F FMA\n",
      "To enable them in other operations, rebuild TensorFlow with the appropriate compiler flags.\n",
      "2022-02-22 17:11:05.875057: I tensorflow/stream_executor/cuda/cuda_gpu_executor.cc:937] successful NUMA node read from SysFS had negative value (-1), but there must be at least one NUMA node, so returning NUMA node zero\n",
      "2022-02-22 17:11:05.875782: I tensorflow/stream_executor/cuda/cuda_gpu_executor.cc:937] successful NUMA node read from SysFS had negative value (-1), but there must be at least one NUMA node, so returning NUMA node zero\n",
      "2022-02-22 17:11:05.876396: I tensorflow/stream_executor/cuda/cuda_gpu_executor.cc:937] successful NUMA node read from SysFS had negative value (-1), but there must be at least one NUMA node, so returning NUMA node zero\n",
      "2022-02-22 17:11:07.644700: I tensorflow/stream_executor/cuda/cuda_gpu_executor.cc:937] successful NUMA node read from SysFS had negative value (-1), but there must be at least one NUMA node, so returning NUMA node zero\n",
      "2022-02-22 17:11:07.645627: I tensorflow/stream_executor/cuda/cuda_gpu_executor.cc:937] successful NUMA node read from SysFS had negative value (-1), but there must be at least one NUMA node, so returning NUMA node zero\n",
      "2022-02-22 17:11:07.646257: I tensorflow/stream_executor/cuda/cuda_gpu_executor.cc:937] successful NUMA node read from SysFS had negative value (-1), but there must be at least one NUMA node, so returning NUMA node zero\n",
      "2022-02-22 17:11:07.646840: I tensorflow/core/common_runtime/gpu/gpu_device.cc:1510] Created device /job:localhost/replica:0/task:0/device:GPU:0 with 15403 MB memory:  -> device: 0, name: Tesla P100-PCIE-16GB, pci bus id: 0000:00:04.0, compute capability: 6.0\n"
     ]
    }
   ],
   "source": [
    "#LSTM\n",
    "model = Sequential()\n",
    "model.add(LSTM(55, return_sequences = True, input_shape = (train_data.shape[1], 1)))\n",
    "model.add(LSTM(55, return_sequences = True, ))\n",
    "model.add(LSTM(55))\n",
    "model.add(Dense(25))\n",
    "model.add(Dense(1))\n",
    "model.compile(loss = 'mse', optimizer = 'adam', metrics = ['mse'])\n",
    "#Conv1D\n",
    "#def model_Conv1D():\n",
    "    #model = Sequential()\n",
    "    #model.add(Conv1D(filters = 32, kernel_size = 2, activation = 'relu', input_shape = (train_data.shape[1],train_data.shape[2], )))\n",
    "    #model.add(MaxPooling1D(pool_size = 2))\n",
    "    #model.add(Conv1D(filters = 50, kernel_size = 2, activation = 'relu'))\n",
    "    #model.add(MaxPooling1D(pool_size = 2))\n",
    "    #model.add(Flatten())\n",
    "    #model.add(Dense(50))\n",
    "    #model.add(Dropout(rate = 0.3))\n",
    "    #model.add(Dense(1))\n",
    "    #model.compile(optimizer= 'rmsprop', loss = 'mse', metrics = ['mse'])\n",
    "    #return model\n",
    "\n",
    "#Conv1D_LSTM\n",
    "#def model_Conv1D_LSTM():\n",
    "    #subsequences := 3\n",
    "    #model = Sequential()\n",
    "    #model.add(TimeDistributed(Conv1D(filters = 32, kernel_size = 2, activation = 'relu', input_shape = (None, train_data.shape[1] // 3,train_data.shape[2], ))))\n",
    "    #model.add(TimeDistributed(MaxPooling1D(pool_size = 2)))\n",
    "    #model.add(TimeDistributed(Flatten()))\n",
    "    #model.add(LSTM(30))\n",
    "    #model.add(Dropout(rate = 0.3))\n",
    "    #model.add(Dense(1))\n",
    "    #model.compile(optimizer= 'rmsprop', loss = 'mse', metrics = ['mse'])\n",
    "    #return model\n",
    "    \n",
    "    \n",
    "    "
   ]
  },
  {
   "cell_type": "code",
   "execution_count": 16,
   "id": "949b12b0",
   "metadata": {
    "execution": {
     "iopub.execute_input": "2022-02-22T17:11:08.654883Z",
     "iopub.status.busy": "2022-02-22T17:11:08.654154Z",
     "iopub.status.idle": "2022-02-22T18:13:17.626615Z",
     "shell.execute_reply": "2022-02-22T18:13:17.625828Z",
     "shell.execute_reply.started": "2022-02-22T15:41:10.399815Z"
    },
    "papermill": {
     "duration": 3728.996823,
     "end_time": "2022-02-22T18:13:17.626758",
     "exception": false,
     "start_time": "2022-02-22T17:11:08.629935",
     "status": "completed"
    },
    "tags": []
   },
   "outputs": [
    {
     "name": "stderr",
     "output_type": "stream",
     "text": [
      "2022-02-22 17:11:08.761747: I tensorflow/compiler/mlir/mlir_graph_optimization_pass.cc:185] None of the MLIR Optimization Passes are enabled (registered 2)\n"
     ]
    },
    {
     "name": "stdout",
     "output_type": "stream",
     "text": [
      "Epoch 1/10\n"
     ]
    },
    {
     "name": "stderr",
     "output_type": "stream",
     "text": [
      "2022-02-22 17:11:12.248923: I tensorflow/stream_executor/cuda/cuda_dnn.cc:369] Loaded cuDNN version 8005\n"
     ]
    },
    {
     "name": "stdout",
     "output_type": "stream",
     "text": [
      "53550/53550 [==============================] - 368s 7ms/step - loss: 28.3057 - mse: 28.3057\n",
      "Epoch 2/10\n",
      "53550/53550 [==============================] - 374s 7ms/step - loss: 27.9472 - mse: 27.9472\n",
      "Epoch 3/10\n",
      "53550/53550 [==============================] - 372s 7ms/step - loss: 27.2403 - mse: 27.2403\n",
      "Epoch 4/10\n",
      "53550/53550 [==============================] - 376s 7ms/step - loss: 27.4590 - mse: 27.4590\n",
      "Epoch 5/10\n",
      "53550/53550 [==============================] - 373s 7ms/step - loss: 27.5990 - mse: 27.5990\n",
      "Epoch 6/10\n",
      "53550/53550 [==============================] - 377s 7ms/step - loss: 26.7726 - mse: 26.7726\n",
      "Epoch 7/10\n",
      "53550/53550 [==============================] - 373s 7ms/step - loss: 27.4827 - mse: 27.4827\n",
      "Epoch 8/10\n",
      "53550/53550 [==============================] - 382s 7ms/step - loss: 27.1660 - mse: 27.1660\n",
      "Epoch 9/10\n",
      "53550/53550 [==============================] - 367s 7ms/step - loss: 26.5585 - mse: 26.5585\n",
      "Epoch 10/10\n",
      "53550/53550 [==============================] - 368s 7ms/step - loss: 26.8093 - mse: 26.8093\n"
     ]
    }
   ],
   "source": [
    "#Model \n",
    "history_1 = model.fit(train_data, train_target, epochs = 10, batch_size = 4)\n",
    "df_his1 = pd.DataFrame(history_1.history)\n",
    "\n",
    "#Model 2\n",
    "#history_2 = model_Conv1D().fit(train_data, train_target, epochs = 15)\n",
    "#df_his2 = pd.DataFrame(history_2.history)\n",
    "\n",
    "#Model 3\n",
    "#train_data_1 = train_data.reshape((train_data.shape[0], 3 , train_data.shape[1] // 3 , 1))\n",
    "#history_3 = model_Conv1D_LSTM().fit(train_data_1, train_target, epochs = 15)\n",
    "#df_his3 = pd.DataFrame(history_3.history)\n",
    "\n"
   ]
  },
  {
   "cell_type": "markdown",
   "id": "68b6f724",
   "metadata": {
    "papermill": {
     "duration": 19.899243,
     "end_time": "2022-02-22T18:13:57.139836",
     "exception": false,
     "start_time": "2022-02-22T18:13:37.240593",
     "status": "completed"
    },
    "tags": []
   },
   "source": [
    "### Mean Square Roots and Epochs"
   ]
  },
  {
   "cell_type": "code",
   "execution_count": 17,
   "id": "90b4dc74",
   "metadata": {
    "execution": {
     "iopub.execute_input": "2022-02-22T18:14:36.513758Z",
     "iopub.status.busy": "2022-02-22T18:14:36.512862Z",
     "iopub.status.idle": "2022-02-22T18:14:36.815815Z",
     "shell.execute_reply": "2022-02-22T18:14:36.816319Z",
     "shell.execute_reply.started": "2022-02-22T15:57:07.536252Z"
    },
    "papermill": {
     "duration": 20.317553,
     "end_time": "2022-02-22T18:14:36.816481",
     "exception": false,
     "start_time": "2022-02-22T18:14:16.498928",
     "status": "completed"
    },
    "tags": []
   },
   "outputs": [
    {
     "data": {
      "text/plain": [
       "<AxesSubplot:ylabel='loss'>"
      ]
     },
     "execution_count": 17,
     "metadata": {},
     "output_type": "execute_result"
    },
    {
     "data": {
      "image/png": "[encoded data removed]",
      "text/plain": [
       "<Figure size 720x720 with 1 Axes>"
      ]
     },
     "metadata": {},
     "output_type": "display_data"
    }
   ],
   "source": [
    "plt.figure(figsize = (10 , 10))\n",
    "sns.lineplot(x= df_his1.index + 1, y = df_his1['loss'], color='r', label=\"LSTM loss\")\n",
    "#sns.lineplot(x= df_his2.index + 1, y= df_his2['loss'], color='g', label=\"Conv1D loss\")\n",
    "#sns.lineplot(x= df_his3.index + 1, y= df_his3['loss'], color='b', label=\"Conv1D+LSTM loss\")\n",
    "#plt.legend()\n",
    "#plt.show()"
   ]
  },
  {
   "cell_type": "code",
   "execution_count": 18,
   "id": "e469bdb8",
   "metadata": {
    "execution": {
     "iopub.execute_input": "2022-02-22T18:15:16.043707Z",
     "iopub.status.busy": "2022-02-22T18:15:16.039792Z",
     "iopub.status.idle": "2022-02-22T18:15:58.563133Z",
     "shell.execute_reply": "2022-02-22T18:15:58.562670Z",
     "shell.execute_reply.started": "2022-02-22T15:57:07.538289Z"
    },
    "papermill": {
     "duration": 61.831457,
     "end_time": "2022-02-22T18:15:58.563274",
     "exception": false,
     "start_time": "2022-02-22T18:14:56.731817",
     "status": "completed"
    },
    "tags": []
   },
   "outputs": [],
   "source": [
    "submission = pd.read_csv('/kaggle/input/competitive-data-science-predict-future-sales/sample_submission.csv')\n",
    "submission['item_cnt_month'] = model.predict(test_data).clip(0,30).round(0)\n",
    "submission.to_csv('submission.csv', index=False)"
   ]
  },
  {
   "cell_type": "code",
   "execution_count": 19,
   "id": "3fd3a55e",
   "metadata": {
    "execution": {
     "iopub.execute_input": "2022-02-22T18:16:38.302335Z",
     "iopub.status.busy": "2022-02-22T18:16:38.301129Z",
     "iopub.status.idle": "2022-02-22T18:16:38.305409Z",
     "shell.execute_reply": "2022-02-22T18:16:38.305790Z",
     "shell.execute_reply.started": "2022-02-22T15:57:07.540192Z"
    },
    "papermill": {
     "duration": 20.210233,
     "end_time": "2022-02-22T18:16:38.305938",
     "exception": false,
     "start_time": "2022-02-22T18:16:18.095705",
     "status": "completed"
    },
    "tags": []
   },
   "outputs": [
    {
     "data": {
      "text/html": [
       "<div>\n",
       "<style scoped>\n",
       "    .dataframe tbody tr th:only-of-type {\n",
       "        vertical-align: middle;\n",
       "    }\n",
       "\n",
       "    .dataframe tbody tr th {\n",
       "        vertical-align: top;\n",
       "    }\n",
       "\n",
       "    .dataframe thead th {\n",
       "        text-align: right;\n",
       "    }\n",
       "</style>\n",
       "<table border=\"1\" class=\"dataframe\">\n",
       "  <thead>\n",
       "    <tr style=\"text-align: right;\">\n",
       "      <th></th>\n",
       "      <th>ID</th>\n",
       "      <th>item_cnt_month</th>\n",
       "    </tr>\n",
       "  </thead>\n",
       "  <tbody>\n",
       "    <tr>\n",
       "      <th>0</th>\n",
       "      <td>0</td>\n",
       "      <td>1.0</td>\n",
       "    </tr>\n",
       "    <tr>\n",
       "      <th>1</th>\n",
       "      <td>1</td>\n",
       "      <td>0.0</td>\n",
       "    </tr>\n",
       "    <tr>\n",
       "      <th>2</th>\n",
       "      <td>2</td>\n",
       "      <td>1.0</td>\n",
       "    </tr>\n",
       "    <tr>\n",
       "      <th>3</th>\n",
       "      <td>3</td>\n",
       "      <td>0.0</td>\n",
       "    </tr>\n",
       "    <tr>\n",
       "      <th>4</th>\n",
       "      <td>4</td>\n",
       "      <td>0.0</td>\n",
       "    </tr>\n",
       "    <tr>\n",
       "      <th>...</th>\n",
       "      <td>...</td>\n",
       "      <td>...</td>\n",
       "    </tr>\n",
       "    <tr>\n",
       "      <th>214195</th>\n",
       "      <td>214195</td>\n",
       "      <td>0.0</td>\n",
       "    </tr>\n",
       "    <tr>\n",
       "      <th>214196</th>\n",
       "      <td>214196</td>\n",
       "      <td>0.0</td>\n",
       "    </tr>\n",
       "    <tr>\n",
       "      <th>214197</th>\n",
       "      <td>214197</td>\n",
       "      <td>0.0</td>\n",
       "    </tr>\n",
       "    <tr>\n",
       "      <th>214198</th>\n",
       "      <td>214198</td>\n",
       "      <td>0.0</td>\n",
       "    </tr>\n",
       "    <tr>\n",
       "      <th>214199</th>\n",
       "      <td>214199</td>\n",
       "      <td>0.0</td>\n",
       "    </tr>\n",
       "  </tbody>\n",
       "</table>\n",
       "<p>214200 rows × 2 columns</p>\n",
       "</div>"
      ],
      "text/plain": [
       "            ID  item_cnt_month\n",
       "0            0             1.0\n",
       "1            1             0.0\n",
       "2            2             1.0\n",
       "3            3             0.0\n",
       "4            4             0.0\n",
       "...        ...             ...\n",
       "214195  214195             0.0\n",
       "214196  214196             0.0\n",
       "214197  214197             0.0\n",
       "214198  214198             0.0\n",
       "214199  214199             0.0\n",
       "\n",
       "[214200 rows x 2 columns]"
      ]
     },
     "execution_count": 19,
     "metadata": {},
     "output_type": "execute_result"
    }
   ],
   "source": [
    "submission"
   ]
  }
 ],
 "metadata": {
  "kernelspec": {
   "display_name": "Python 3",
   "language": "python",
   "name": "python3"
  },
  "language_info": {
   "codemirror_mode": {
    "name": "ipython",
    "version": 3
   },
   "file_extension": ".py",
   "mimetype": "text/x-python",
   "name": "python",
   "nbconvert_exporter": "python",
   "pygments_lexer": "ipython3",
   "version": "3.7.12"
  },
  "papermill": {
   "default_parameters": {},
   "duration": 3976.087398,
   "end_time": "2022-02-22T18:17:01.133094",
   "environment_variables": {},
   "exception": null,
   "input_path": "__notebook__.ipynb",
   "output_path": "__notebook__.ipynb",
   "parameters": {},
   "start_time": "2022-02-22T17:10:45.045696",
   "version": "2.3.3"
  }
 },
 "nbformat": 4,
 "nbformat_minor": 5
}
