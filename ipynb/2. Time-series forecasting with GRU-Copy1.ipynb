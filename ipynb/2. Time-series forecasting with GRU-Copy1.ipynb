{
 "cells": [
  {
   "cell_type": "code",
   "execution_count": 1,
   "metadata": {},
   "outputs": [],
   "source": [
    "import os, warnings, random\n",
    "import numpy as np\n",
    "import pandas as pd\n",
    "import matplotlib.pyplot as plt\n",
    "from sklearn.metrics import mean_squared_error\n",
    "from sklearn.model_selection import train_test_split\n",
    "import tensorflow as tf\n",
    "import tensorflow.keras.layers as L\n",
    "from tensorflow.keras import optimizers, Sequential, Model\n",
    "\n",
    "# Set seeds to make the experiment more reproducible.\n",
    "def seed_everything(seed=0):\n",
    "    random.seed(seed)\n",
    "    np.random.seed(seed)\n",
    "    tf.random.set_seed(seed)\n",
    "    os.environ['PYTHONHASHSEED'] = str(seed)\n",
    "    os.environ['TF_DETERMINISTIC_OPS'] = '1'\n",
    "\n",
    "seed = 0\n",
    "seed_everything(seed)\n",
    "warnings.filterwarnings('ignore')\n",
    "pd.set_option('display.float_format', lambda x: '%.2f' % x)"
   ]
  },
  {
   "cell_type": "markdown",
   "metadata": {},
   "source": [
    "## Loading data"
   ]
  },
  {
   "cell_type": "code",
   "execution_count": 2,
   "metadata": {},
   "outputs": [],
   "source": [
    "df = pd.read_csv('../data/fakta_penjualan_unv_202112091006.csv')"
   ]
  },
  {
   "cell_type": "code",
   "execution_count": 3,
   "metadata": {},
   "outputs": [
    {
     "name": "stdout",
     "output_type": "stream",
     "text": [
      "<class 'pandas.core.frame.DataFrame'>\n",
      "RangeIndex: 1844679 entries, 0 to 1844678\n",
      "Data columns (total 16 columns):\n",
      " #   Column      Dtype  \n",
      "---  ------      -----  \n",
      " 0   nonota      object \n",
      " 1   hari        int64  \n",
      " 2   bulan       int64  \n",
      " 3   tahun       int64  \n",
      " 4   namabarang  object \n",
      " 5   satuan      object \n",
      " 6   qty         float64\n",
      " 7   hargajual   float64\n",
      " 8   hargabeli   float64\n",
      " 9   hargajual2  float64\n",
      " 10  kodejenis   object \n",
      " 11  jenis       object \n",
      " 12  barcode     object \n",
      " 13  keuntungan  float64\n",
      " 14  kodecabang  float64\n",
      " 15  cabang      float64\n",
      "dtypes: float64(7), int64(3), object(6)\n",
      "memory usage: 225.2+ MB\n"
     ]
    }
   ],
   "source": [
    "df.info()"
   ]
  },
  {
   "cell_type": "markdown",
   "metadata": {},
   "source": [
    "## Drop Column"
   ]
  },
  {
   "cell_type": "code",
   "execution_count": 4,
   "metadata": {},
   "outputs": [],
   "source": [
    "df = df.drop(['nonota', 'namabarang', 'satuan', 'hargajual', 'hargabeli', 'hargajual2', 'kodejenis', 'jenis', 'keuntungan', 'kodecabang', 'cabang'], axis=1)"
   ]
  },
  {
   "cell_type": "code",
   "execution_count": 5,
   "metadata": {},
   "outputs": [
    {
     "data": {
      "text/html": [
       "<div>\n",
       "<style scoped>\n",
       "    .dataframe tbody tr th:only-of-type {\n",
       "        vertical-align: middle;\n",
       "    }\n",
       "\n",
       "    .dataframe tbody tr th {\n",
       "        vertical-align: top;\n",
       "    }\n",
       "\n",
       "    .dataframe thead th {\n",
       "        text-align: right;\n",
       "    }\n",
       "</style>\n",
       "<table border=\"1\" class=\"dataframe\">\n",
       "  <thead>\n",
       "    <tr style=\"text-align: right;\">\n",
       "      <th></th>\n",
       "      <th>hari</th>\n",
       "      <th>bulan</th>\n",
       "      <th>tahun</th>\n",
       "      <th>qty</th>\n",
       "      <th>barcode</th>\n",
       "    </tr>\n",
       "  </thead>\n",
       "  <tbody>\n",
       "    <tr>\n",
       "      <th>0</th>\n",
       "      <td>2</td>\n",
       "      <td>11</td>\n",
       "      <td>2015</td>\n",
       "      <td>1.00</td>\n",
       "      <td>8999999033132</td>\n",
       "    </tr>\n",
       "    <tr>\n",
       "      <th>1</th>\n",
       "      <td>2</td>\n",
       "      <td>11</td>\n",
       "      <td>2015</td>\n",
       "      <td>1.00</td>\n",
       "      <td>8999999041953</td>\n",
       "    </tr>\n",
       "    <tr>\n",
       "      <th>2</th>\n",
       "      <td>2</td>\n",
       "      <td>11</td>\n",
       "      <td>2015</td>\n",
       "      <td>5.00</td>\n",
       "      <td>8999999045944</td>\n",
       "    </tr>\n",
       "    <tr>\n",
       "      <th>3</th>\n",
       "      <td>2</td>\n",
       "      <td>11</td>\n",
       "      <td>2015</td>\n",
       "      <td>1.00</td>\n",
       "      <td>8999999707835</td>\n",
       "    </tr>\n",
       "    <tr>\n",
       "      <th>4</th>\n",
       "      <td>2</td>\n",
       "      <td>11</td>\n",
       "      <td>2015</td>\n",
       "      <td>1.00</td>\n",
       "      <td>8999999037918 - 26/06/2020</td>\n",
       "    </tr>\n",
       "    <tr>\n",
       "      <th>...</th>\n",
       "      <td>...</td>\n",
       "      <td>...</td>\n",
       "      <td>...</td>\n",
       "      <td>...</td>\n",
       "      <td>...</td>\n",
       "    </tr>\n",
       "    <tr>\n",
       "      <th>1844674</th>\n",
       "      <td>10</td>\n",
       "      <td>6</td>\n",
       "      <td>2021</td>\n",
       "      <td>1.00</td>\n",
       "      <td>8999999520137</td>\n",
       "    </tr>\n",
       "    <tr>\n",
       "      <th>1844675</th>\n",
       "      <td>10</td>\n",
       "      <td>6</td>\n",
       "      <td>2021</td>\n",
       "      <td>1.00</td>\n",
       "      <td>8999999033170</td>\n",
       "    </tr>\n",
       "    <tr>\n",
       "      <th>1844676</th>\n",
       "      <td>10</td>\n",
       "      <td>6</td>\n",
       "      <td>2021</td>\n",
       "      <td>1.00</td>\n",
       "      <td>8999999037765</td>\n",
       "    </tr>\n",
       "    <tr>\n",
       "      <th>1844677</th>\n",
       "      <td>10</td>\n",
       "      <td>6</td>\n",
       "      <td>2021</td>\n",
       "      <td>1.00</td>\n",
       "      <td>8999999036348</td>\n",
       "    </tr>\n",
       "    <tr>\n",
       "      <th>1844678</th>\n",
       "      <td>10</td>\n",
       "      <td>6</td>\n",
       "      <td>2021</td>\n",
       "      <td>1.00</td>\n",
       "      <td>8999999520878</td>\n",
       "    </tr>\n",
       "  </tbody>\n",
       "</table>\n",
       "<p>1844679 rows × 5 columns</p>\n",
       "</div>"
      ],
      "text/plain": [
       "         hari  bulan  tahun  qty                     barcode\n",
       "0           2     11   2015 1.00               8999999033132\n",
       "1           2     11   2015 1.00               8999999041953\n",
       "2           2     11   2015 5.00               8999999045944\n",
       "3           2     11   2015 1.00               8999999707835\n",
       "4           2     11   2015 1.00  8999999037918 - 26/06/2020\n",
       "...       ...    ...    ...  ...                         ...\n",
       "1844674    10      6   2021 1.00               8999999520137\n",
       "1844675    10      6   2021 1.00               8999999033170\n",
       "1844676    10      6   2021 1.00               8999999037765\n",
       "1844677    10      6   2021 1.00               8999999036348\n",
       "1844678    10      6   2021 1.00               8999999520878\n",
       "\n",
       "[1844679 rows x 5 columns]"
      ]
     },
     "execution_count": 5,
     "metadata": {},
     "output_type": "execute_result"
    }
   ],
   "source": [
    "df"
   ]
  },
  {
   "cell_type": "markdown",
   "metadata": {},
   "source": [
    "## Examine Unique Symbol from Barcode Column"
   ]
  },
  {
   "cell_type": "code",
   "execution_count": 6,
   "metadata": {},
   "outputs": [],
   "source": [
    "df['barcode'] = df['barcode'].astype(str).str[:13]\n",
    "# df.head()"
   ]
  },
  {
   "cell_type": "markdown",
   "metadata": {},
   "source": [
    "## Split to Data Test & Data Train"
   ]
  },
  {
   "cell_type": "code",
   "execution_count": 7,
   "metadata": {},
   "outputs": [
    {
     "data": {
      "text/html": [
       "<div>\n",
       "<style scoped>\n",
       "    .dataframe tbody tr th:only-of-type {\n",
       "        vertical-align: middle;\n",
       "    }\n",
       "\n",
       "    .dataframe tbody tr th {\n",
       "        vertical-align: top;\n",
       "    }\n",
       "\n",
       "    .dataframe thead th {\n",
       "        text-align: right;\n",
       "    }\n",
       "</style>\n",
       "<table border=\"1\" class=\"dataframe\">\n",
       "  <thead>\n",
       "    <tr style=\"text-align: right;\">\n",
       "      <th></th>\n",
       "      <th>hari</th>\n",
       "      <th>bulan</th>\n",
       "      <th>tahun</th>\n",
       "      <th>qty</th>\n",
       "      <th>barcode</th>\n",
       "    </tr>\n",
       "  </thead>\n",
       "  <tbody>\n",
       "    <tr>\n",
       "      <th>1096038</th>\n",
       "      <td>1</td>\n",
       "      <td>1</td>\n",
       "      <td>2019</td>\n",
       "      <td>1.00</td>\n",
       "      <td>8999999407919</td>\n",
       "    </tr>\n",
       "    <tr>\n",
       "      <th>1096039</th>\n",
       "      <td>1</td>\n",
       "      <td>1</td>\n",
       "      <td>2019</td>\n",
       "      <td>2.00</td>\n",
       "      <td>8999999500399</td>\n",
       "    </tr>\n",
       "    <tr>\n",
       "      <th>1096040</th>\n",
       "      <td>1</td>\n",
       "      <td>1</td>\n",
       "      <td>2019</td>\n",
       "      <td>1.00</td>\n",
       "      <td>8999999003067</td>\n",
       "    </tr>\n",
       "    <tr>\n",
       "      <th>1096041</th>\n",
       "      <td>1</td>\n",
       "      <td>1</td>\n",
       "      <td>2019</td>\n",
       "      <td>2.00</td>\n",
       "      <td>8999999045579</td>\n",
       "    </tr>\n",
       "    <tr>\n",
       "      <th>1096042</th>\n",
       "      <td>1</td>\n",
       "      <td>1</td>\n",
       "      <td>2019</td>\n",
       "      <td>1.00</td>\n",
       "      <td>8992747180225</td>\n",
       "    </tr>\n",
       "  </tbody>\n",
       "</table>\n",
       "</div>"
      ],
      "text/plain": [
       "         hari  bulan  tahun  qty        barcode\n",
       "1096038     1      1   2019 1.00  8999999407919\n",
       "1096039     1      1   2019 2.00  8999999500399\n",
       "1096040     1      1   2019 1.00  8999999003067\n",
       "1096041     1      1   2019 2.00  8999999045579\n",
       "1096042     1      1   2019 1.00  8992747180225"
      ]
     },
     "execution_count": 7,
     "metadata": {},
     "output_type": "execute_result"
    }
   ],
   "source": [
    "test = df[df['tahun']==2019]\n",
    "test.head()"
   ]
  },
  {
   "cell_type": "code",
   "execution_count": 8,
   "metadata": {},
   "outputs": [
    {
     "data": {
      "text/html": [
       "<div>\n",
       "<style scoped>\n",
       "    .dataframe tbody tr th:only-of-type {\n",
       "        vertical-align: middle;\n",
       "    }\n",
       "\n",
       "    .dataframe tbody tr th {\n",
       "        vertical-align: top;\n",
       "    }\n",
       "\n",
       "    .dataframe thead th {\n",
       "        text-align: right;\n",
       "    }\n",
       "</style>\n",
       "<table border=\"1\" class=\"dataframe\">\n",
       "  <thead>\n",
       "    <tr style=\"text-align: right;\">\n",
       "      <th></th>\n",
       "      <th>hari</th>\n",
       "      <th>bulan</th>\n",
       "      <th>tahun</th>\n",
       "      <th>qty</th>\n",
       "      <th>barcode</th>\n",
       "    </tr>\n",
       "  </thead>\n",
       "  <tbody>\n",
       "    <tr>\n",
       "      <th>65817</th>\n",
       "      <td>1</td>\n",
       "      <td>1</td>\n",
       "      <td>2016</td>\n",
       "      <td>3.00</td>\n",
       "      <td>8999999036607</td>\n",
       "    </tr>\n",
       "    <tr>\n",
       "      <th>65818</th>\n",
       "      <td>1</td>\n",
       "      <td>1</td>\n",
       "      <td>2016</td>\n",
       "      <td>1.00</td>\n",
       "      <td>8999999003722</td>\n",
       "    </tr>\n",
       "    <tr>\n",
       "      <th>65819</th>\n",
       "      <td>1</td>\n",
       "      <td>1</td>\n",
       "      <td>2016</td>\n",
       "      <td>1.00</td>\n",
       "      <td>8999999036898</td>\n",
       "    </tr>\n",
       "    <tr>\n",
       "      <th>66058</th>\n",
       "      <td>1</td>\n",
       "      <td>1</td>\n",
       "      <td>2016</td>\n",
       "      <td>3.00</td>\n",
       "      <td>8992747180201</td>\n",
       "    </tr>\n",
       "    <tr>\n",
       "      <th>66059</th>\n",
       "      <td>1</td>\n",
       "      <td>1</td>\n",
       "      <td>2016</td>\n",
       "      <td>2.00</td>\n",
       "      <td>8999999049034</td>\n",
       "    </tr>\n",
       "  </tbody>\n",
       "</table>\n",
       "</div>"
      ],
      "text/plain": [
       "       hari  bulan  tahun  qty        barcode\n",
       "65817     1      1   2016 3.00  8999999036607\n",
       "65818     1      1   2016 1.00  8999999003722\n",
       "65819     1      1   2016 1.00  8999999036898\n",
       "66058     1      1   2016 3.00  8992747180201\n",
       "66059     1      1   2016 2.00  8999999049034"
      ]
     },
     "execution_count": 8,
     "metadata": {},
     "output_type": "execute_result"
    }
   ],
   "source": [
    "years = [2016, 2017, 2018]\n",
    "train = df[df.tahun.isin(years)]\n",
    "train.head()"
   ]
  },
  {
   "cell_type": "markdown",
   "metadata": {},
   "source": [
    "## Transform Column to Date Column"
   ]
  },
  {
   "cell_type": "code",
   "execution_count": 9,
   "metadata": {},
   "outputs": [],
   "source": [
    "def column_to_date(data):\n",
    "    # create date column from hari, bulan, tahun column\n",
    "    cols = [\"hari\",\"bulan\",\"tahun\"]\n",
    "    data['date'] = data[cols].apply(lambda x: '-'.join(x.values.astype(str)), axis=\"columns\")\n",
    "    \n",
    "    # drop hari, bulan, tahun column\n",
    "    data = data.drop(['hari', 'bulan', 'tahun'], axis=1)\n",
    "    \n",
    "    # transformn date column to datetime\n",
    "    data['date'] = pd.to_datetime(data['date'])\n",
    "    \n",
    "    return data"
   ]
  },
  {
   "cell_type": "code",
   "execution_count": 10,
   "metadata": {},
   "outputs": [
    {
     "data": {
      "text/html": [
       "<div>\n",
       "<style scoped>\n",
       "    .dataframe tbody tr th:only-of-type {\n",
       "        vertical-align: middle;\n",
       "    }\n",
       "\n",
       "    .dataframe tbody tr th {\n",
       "        vertical-align: top;\n",
       "    }\n",
       "\n",
       "    .dataframe thead th {\n",
       "        text-align: right;\n",
       "    }\n",
       "</style>\n",
       "<table border=\"1\" class=\"dataframe\">\n",
       "  <thead>\n",
       "    <tr style=\"text-align: right;\">\n",
       "      <th></th>\n",
       "      <th>qty</th>\n",
       "      <th>barcode</th>\n",
       "      <th>date</th>\n",
       "    </tr>\n",
       "  </thead>\n",
       "  <tbody>\n",
       "    <tr>\n",
       "      <th>1096038</th>\n",
       "      <td>1.00</td>\n",
       "      <td>8999999407919</td>\n",
       "      <td>2019-01-01</td>\n",
       "    </tr>\n",
       "    <tr>\n",
       "      <th>1096039</th>\n",
       "      <td>2.00</td>\n",
       "      <td>8999999500399</td>\n",
       "      <td>2019-01-01</td>\n",
       "    </tr>\n",
       "    <tr>\n",
       "      <th>1096040</th>\n",
       "      <td>1.00</td>\n",
       "      <td>8999999003067</td>\n",
       "      <td>2019-01-01</td>\n",
       "    </tr>\n",
       "    <tr>\n",
       "      <th>1096041</th>\n",
       "      <td>2.00</td>\n",
       "      <td>8999999045579</td>\n",
       "      <td>2019-01-01</td>\n",
       "    </tr>\n",
       "    <tr>\n",
       "      <th>1096042</th>\n",
       "      <td>1.00</td>\n",
       "      <td>8992747180225</td>\n",
       "      <td>2019-01-01</td>\n",
       "    </tr>\n",
       "  </tbody>\n",
       "</table>\n",
       "</div>"
      ],
      "text/plain": [
       "         qty        barcode       date\n",
       "1096038 1.00  8999999407919 2019-01-01\n",
       "1096039 2.00  8999999500399 2019-01-01\n",
       "1096040 1.00  8999999003067 2019-01-01\n",
       "1096041 2.00  8999999045579 2019-01-01\n",
       "1096042 1.00  8992747180225 2019-01-01"
      ]
     },
     "execution_count": 10,
     "metadata": {},
     "output_type": "execute_result"
    }
   ],
   "source": [
    "test = column_to_date(test)\n",
    "test.head()"
   ]
  },
  {
   "cell_type": "code",
   "execution_count": 11,
   "metadata": {},
   "outputs": [
    {
     "data": {
      "text/html": [
       "<div>\n",
       "<style scoped>\n",
       "    .dataframe tbody tr th:only-of-type {\n",
       "        vertical-align: middle;\n",
       "    }\n",
       "\n",
       "    .dataframe tbody tr th {\n",
       "        vertical-align: top;\n",
       "    }\n",
       "\n",
       "    .dataframe thead th {\n",
       "        text-align: right;\n",
       "    }\n",
       "</style>\n",
       "<table border=\"1\" class=\"dataframe\">\n",
       "  <thead>\n",
       "    <tr style=\"text-align: right;\">\n",
       "      <th></th>\n",
       "      <th>qty</th>\n",
       "      <th>barcode</th>\n",
       "      <th>date</th>\n",
       "    </tr>\n",
       "  </thead>\n",
       "  <tbody>\n",
       "    <tr>\n",
       "      <th>65817</th>\n",
       "      <td>3.00</td>\n",
       "      <td>8999999036607</td>\n",
       "      <td>2016-01-01</td>\n",
       "    </tr>\n",
       "    <tr>\n",
       "      <th>65818</th>\n",
       "      <td>1.00</td>\n",
       "      <td>8999999003722</td>\n",
       "      <td>2016-01-01</td>\n",
       "    </tr>\n",
       "    <tr>\n",
       "      <th>65819</th>\n",
       "      <td>1.00</td>\n",
       "      <td>8999999036898</td>\n",
       "      <td>2016-01-01</td>\n",
       "    </tr>\n",
       "    <tr>\n",
       "      <th>66058</th>\n",
       "      <td>3.00</td>\n",
       "      <td>8992747180201</td>\n",
       "      <td>2016-01-01</td>\n",
       "    </tr>\n",
       "    <tr>\n",
       "      <th>66059</th>\n",
       "      <td>2.00</td>\n",
       "      <td>8999999049034</td>\n",
       "      <td>2016-01-01</td>\n",
       "    </tr>\n",
       "  </tbody>\n",
       "</table>\n",
       "</div>"
      ],
      "text/plain": [
       "       qty        barcode       date\n",
       "65817 3.00  8999999036607 2016-01-01\n",
       "65818 1.00  8999999003722 2016-01-01\n",
       "65819 1.00  8999999036898 2016-01-01\n",
       "66058 3.00  8992747180201 2016-01-01\n",
       "66059 2.00  8999999049034 2016-01-01"
      ]
     },
     "execution_count": 11,
     "metadata": {},
     "output_type": "execute_result"
    }
   ],
   "source": [
    "train = column_to_date(train)\n",
    "train.head()"
   ]
  },
  {
   "cell_type": "code",
   "execution_count": 12,
   "metadata": {},
   "outputs": [],
   "source": [
    "train['qty'] = train['qty'].astype(int)"
   ]
  },
  {
   "cell_type": "markdown",
   "metadata": {},
   "source": [
    "## Get month number from Date"
   ]
  },
  {
   "cell_type": "code",
   "execution_count": 13,
   "metadata": {},
   "outputs": [],
   "source": [
    "train['month_yr'] = train['date'].apply(lambda x: x.strftime('%m-%y')).astype(str)"
   ]
  },
  {
   "cell_type": "code",
   "execution_count": 14,
   "metadata": {},
   "outputs": [],
   "source": [
    "train['month_yr'] = train['month_yr'].map({'01-16':0,'02-16':1,'03-16':2,'04-16':3,'05-16':4,'06-16':5,'07-16':6,'08-16':7,'09-16':8,'10-16':9,'11-16':10,'12-16':11,\n",
    "                                          '01-17':12,'02-17':13,'03-17':14,'04-17':15,'05-17':17,'06-17':17,'07-17':17,'08-17':19,'09-17':20,'10-17':21,'11-17':22,'12-17':23,\n",
    "                                          '01-18':24,'02-18':25,'03-18':26,'04-18':27,'05-18':28,'06-18':29,'07-18':30,'08-18':31,'09-18':32,'10-18':33,'11-18':34,'12-18':35})"
   ]
  },
  {
   "cell_type": "code",
   "execution_count": 15,
   "metadata": {
    "scrolled": true
   },
   "outputs": [
    {
     "data": {
      "text/html": [
       "<div>\n",
       "<style scoped>\n",
       "    .dataframe tbody tr th:only-of-type {\n",
       "        vertical-align: middle;\n",
       "    }\n",
       "\n",
       "    .dataframe tbody tr th {\n",
       "        vertical-align: top;\n",
       "    }\n",
       "\n",
       "    .dataframe thead th {\n",
       "        text-align: right;\n",
       "    }\n",
       "</style>\n",
       "<table border=\"1\" class=\"dataframe\">\n",
       "  <thead>\n",
       "    <tr style=\"text-align: right;\">\n",
       "      <th></th>\n",
       "      <th>qty</th>\n",
       "      <th>barcode</th>\n",
       "      <th>date</th>\n",
       "      <th>month_yr</th>\n",
       "    </tr>\n",
       "  </thead>\n",
       "  <tbody>\n",
       "    <tr>\n",
       "      <th>65817</th>\n",
       "      <td>3</td>\n",
       "      <td>8999999036607</td>\n",
       "      <td>2016-01-01</td>\n",
       "      <td>0</td>\n",
       "    </tr>\n",
       "    <tr>\n",
       "      <th>65818</th>\n",
       "      <td>1</td>\n",
       "      <td>8999999003722</td>\n",
       "      <td>2016-01-01</td>\n",
       "      <td>0</td>\n",
       "    </tr>\n",
       "    <tr>\n",
       "      <th>65819</th>\n",
       "      <td>1</td>\n",
       "      <td>8999999036898</td>\n",
       "      <td>2016-01-01</td>\n",
       "      <td>0</td>\n",
       "    </tr>\n",
       "    <tr>\n",
       "      <th>66058</th>\n",
       "      <td>3</td>\n",
       "      <td>8992747180201</td>\n",
       "      <td>2016-01-01</td>\n",
       "      <td>0</td>\n",
       "    </tr>\n",
       "    <tr>\n",
       "      <th>66059</th>\n",
       "      <td>2</td>\n",
       "      <td>8999999049034</td>\n",
       "      <td>2016-01-01</td>\n",
       "      <td>0</td>\n",
       "    </tr>\n",
       "    <tr>\n",
       "      <th>...</th>\n",
       "      <td>...</td>\n",
       "      <td>...</td>\n",
       "      <td>...</td>\n",
       "      <td>...</td>\n",
       "    </tr>\n",
       "    <tr>\n",
       "      <th>1096033</th>\n",
       "      <td>1</td>\n",
       "      <td>8999999033224</td>\n",
       "      <td>2018-12-31</td>\n",
       "      <td>35</td>\n",
       "    </tr>\n",
       "    <tr>\n",
       "      <th>1096034</th>\n",
       "      <td>1</td>\n",
       "      <td>8999999528805</td>\n",
       "      <td>2018-12-31</td>\n",
       "      <td>35</td>\n",
       "    </tr>\n",
       "    <tr>\n",
       "      <th>1096035</th>\n",
       "      <td>1</td>\n",
       "      <td>8999999390198</td>\n",
       "      <td>2018-12-31</td>\n",
       "      <td>35</td>\n",
       "    </tr>\n",
       "    <tr>\n",
       "      <th>1096036</th>\n",
       "      <td>1</td>\n",
       "      <td>8999999526870</td>\n",
       "      <td>2018-12-31</td>\n",
       "      <td>35</td>\n",
       "    </tr>\n",
       "    <tr>\n",
       "      <th>1096037</th>\n",
       "      <td>1</td>\n",
       "      <td>8999999029920</td>\n",
       "      <td>2018-12-31</td>\n",
       "      <td>35</td>\n",
       "    </tr>\n",
       "  </tbody>\n",
       "</table>\n",
       "<p>1029983 rows × 4 columns</p>\n",
       "</div>"
      ],
      "text/plain": [
       "         qty        barcode       date  month_yr\n",
       "65817      3  8999999036607 2016-01-01         0\n",
       "65818      1  8999999003722 2016-01-01         0\n",
       "65819      1  8999999036898 2016-01-01         0\n",
       "66058      3  8992747180201 2016-01-01         0\n",
       "66059      2  8999999049034 2016-01-01         0\n",
       "...      ...            ...        ...       ...\n",
       "1096033    1  8999999033224 2018-12-31        35\n",
       "1096034    1  8999999528805 2018-12-31        35\n",
       "1096035    1  8999999390198 2018-12-31        35\n",
       "1096036    1  8999999526870 2018-12-31        35\n",
       "1096037    1  8999999029920 2018-12-31        35\n",
       "\n",
       "[1029983 rows x 4 columns]"
      ]
     },
     "metadata": {},
     "output_type": "display_data"
    },
    {
     "name": "stdout",
     "output_type": "stream",
     "text": [
      "<class 'pandas.core.frame.DataFrame'>\n",
      "Int64Index: 1029983 entries, 65817 to 1096037\n",
      "Data columns (total 4 columns):\n",
      " #   Column    Non-Null Count    Dtype         \n",
      "---  ------    --------------    -----         \n",
      " 0   qty       1029983 non-null  int32         \n",
      " 1   barcode   1029983 non-null  object        \n",
      " 2   date      1029983 non-null  datetime64[ns]\n",
      " 3   month_yr  1029983 non-null  int64         \n",
      "dtypes: datetime64[ns](1), int32(1), int64(1), object(1)\n",
      "memory usage: 35.4+ MB\n"
     ]
    },
    {
     "data": {
      "text/plain": [
       "None"
      ]
     },
     "metadata": {},
     "output_type": "display_data"
    }
   ],
   "source": [
    "display(train)\n",
    "display(train.info())"
   ]
  },
  {
   "cell_type": "code",
   "execution_count": 16,
   "metadata": {},
   "outputs": [
    {
     "data": {
      "text/plain": [
       "array([ 0,  1,  2,  3,  4,  5,  6,  7,  8,  9, 10, 11, 12, 13, 14, 15, 17,\n",
       "       19, 20, 21, 22, 23, 24, 25, 26, 27, 28, 29, 30, 31, 32, 33, 34, 35],\n",
       "      dtype=int64)"
      ]
     },
     "execution_count": 16,
     "metadata": {},
     "output_type": "execute_result"
    }
   ],
   "source": [
    "train['month_yr'].unique()"
   ]
  },
  {
   "cell_type": "code",
   "execution_count": 17,
   "metadata": {},
   "outputs": [
    {
     "name": "stdout",
     "output_type": "stream",
     "text": [
      "Min date from data set: 2019-01-01\n",
      "Max date from data set: 2019-12-31\n"
     ]
    }
   ],
   "source": [
    "print(f\"Min date from data set: {test['date'].min().date()}\")\n",
    "print(f\"Max date from data set: {test['date'].max().date()}\")"
   ]
  },
  {
   "cell_type": "code",
   "execution_count": 18,
   "metadata": {},
   "outputs": [
    {
     "name": "stdout",
     "output_type": "stream",
     "text": [
      "Min date from data set: 2016-01-01\n",
      "Max date from data set: 2018-12-31\n"
     ]
    }
   ],
   "source": [
    "print(f\"Min date from data set: {train['date'].min().date()}\")\n",
    "print(f\"Max date from data set: {train['date'].max().date()}\")"
   ]
  },
  {
   "cell_type": "markdown",
   "metadata": {},
   "source": [
    "## Prepare test dataset"
   ]
  },
  {
   "cell_type": "markdown",
   "metadata": {},
   "source": [
    "Leaving only the barcode that exist in the test set to have more accurate results.\n",
    "Drop satuan, kodejenis, jenis and date column"
   ]
  },
  {
   "cell_type": "code",
   "execution_count": 19,
   "metadata": {},
   "outputs": [
    {
     "data": {
      "text/html": [
       "<div>\n",
       "<style scoped>\n",
       "    .dataframe tbody tr th:only-of-type {\n",
       "        vertical-align: middle;\n",
       "    }\n",
       "\n",
       "    .dataframe tbody tr th {\n",
       "        vertical-align: top;\n",
       "    }\n",
       "\n",
       "    .dataframe thead th {\n",
       "        text-align: right;\n",
       "    }\n",
       "</style>\n",
       "<table border=\"1\" class=\"dataframe\">\n",
       "  <thead>\n",
       "    <tr style=\"text-align: right;\">\n",
       "      <th></th>\n",
       "      <th>barcode</th>\n",
       "    </tr>\n",
       "  </thead>\n",
       "  <tbody>\n",
       "    <tr>\n",
       "      <th>1096038</th>\n",
       "      <td>8999999407919</td>\n",
       "    </tr>\n",
       "    <tr>\n",
       "      <th>1096039</th>\n",
       "      <td>8999999500399</td>\n",
       "    </tr>\n",
       "    <tr>\n",
       "      <th>1096040</th>\n",
       "      <td>8999999003067</td>\n",
       "    </tr>\n",
       "    <tr>\n",
       "      <th>1096041</th>\n",
       "      <td>8999999045579</td>\n",
       "    </tr>\n",
       "    <tr>\n",
       "      <th>1096042</th>\n",
       "      <td>8992747180225</td>\n",
       "    </tr>\n",
       "  </tbody>\n",
       "</table>\n",
       "</div>"
      ],
      "text/plain": [
       "               barcode\n",
       "1096038  8999999407919\n",
       "1096039  8999999500399\n",
       "1096040  8999999003067\n",
       "1096041  8999999045579\n",
       "1096042  8992747180225"
      ]
     },
     "execution_count": 19,
     "metadata": {},
     "output_type": "execute_result"
    }
   ],
   "source": [
    "test = test.drop(['qty', 'date'], axis=1)\n",
    "test.head()"
   ]
  },
  {
   "cell_type": "code",
   "execution_count": 20,
   "metadata": {},
   "outputs": [],
   "source": [
    "# test_shop_ids = test['shop_id'].unique()\n",
    "# test_item_ids = test['item_id'].unique()\n",
    "# # Only shops that exist in test set.\n",
    "# train = train[train['shop_id'].isin(test_shop_ids)]\n",
    "# # Only items that exist in test set.\n",
    "# train = train[train['item_id'].isin(test_item_ids)]\n",
    "\n",
    "test_barcode = test['barcode'].unique()\n",
    "# Only items that exist in test set.\n",
    "train = train[train['barcode'].isin(test_barcode)]"
   ]
  },
  {
   "cell_type": "markdown",
   "metadata": {},
   "source": [
    "## Data preprocessing\n",
    "\n",
    "- I'm dropping all features but \"item_cnt_day\" because I'll be using only it as a univariate time-series.\n",
    "- We are asked to predict total sales for every product and store in the next month, and our data is given by day, so let's aggregate the data by month.\n",
    "- Also I'm leaving only monthly \"item_cnt\" >= 0 and <= 20, as this seems to be the distributions of the test set."
   ]
  },
  {
   "cell_type": "code",
   "execution_count": 21,
   "metadata": {},
   "outputs": [],
   "source": [
    "# display(train.head())\n",
    "# display(train.info())"
   ]
  },
  {
   "cell_type": "code",
   "execution_count": 22,
   "metadata": {},
   "outputs": [
    {
     "data": {
      "text/html": [
       "<div>\n",
       "<style scoped>\n",
       "    .dataframe tbody tr th:only-of-type {\n",
       "        vertical-align: middle;\n",
       "    }\n",
       "\n",
       "    .dataframe tbody tr th {\n",
       "        vertical-align: top;\n",
       "    }\n",
       "\n",
       "    .dataframe thead th {\n",
       "        text-align: right;\n",
       "    }\n",
       "</style>\n",
       "<table border=\"1\" class=\"dataframe\">\n",
       "  <thead>\n",
       "    <tr style=\"text-align: right;\">\n",
       "      <th></th>\n",
       "      <th>month_yr</th>\n",
       "      <th>barcode</th>\n",
       "      <th>qty_cnt</th>\n",
       "      <th>qty_cnt_month</th>\n",
       "    </tr>\n",
       "  </thead>\n",
       "  <tbody>\n",
       "    <tr>\n",
       "      <th>0</th>\n",
       "      <td>0</td>\n",
       "      <td>4800888137319</td>\n",
       "      <td>15</td>\n",
       "      <td>12.00</td>\n",
       "    </tr>\n",
       "    <tr>\n",
       "      <th>3</th>\n",
       "      <td>0</td>\n",
       "      <td>4800888157959</td>\n",
       "      <td>11</td>\n",
       "      <td>13.00</td>\n",
       "    </tr>\n",
       "    <tr>\n",
       "      <th>5</th>\n",
       "      <td>0</td>\n",
       "      <td>4800888157973</td>\n",
       "      <td>2</td>\n",
       "      <td>8.00</td>\n",
       "    </tr>\n",
       "    <tr>\n",
       "      <th>6</th>\n",
       "      <td>0</td>\n",
       "      <td>8851932171427</td>\n",
       "      <td>19</td>\n",
       "      <td>7.00</td>\n",
       "    </tr>\n",
       "    <tr>\n",
       "      <th>7</th>\n",
       "      <td>0</td>\n",
       "      <td>8851932172264</td>\n",
       "      <td>12</td>\n",
       "      <td>13.00</td>\n",
       "    </tr>\n",
       "    <tr>\n",
       "      <th>10</th>\n",
       "      <td>0</td>\n",
       "      <td>8851932221528</td>\n",
       "      <td>19</td>\n",
       "      <td>16.00</td>\n",
       "    </tr>\n",
       "    <tr>\n",
       "      <th>11</th>\n",
       "      <td>0</td>\n",
       "      <td>8851932345088</td>\n",
       "      <td>2</td>\n",
       "      <td>3.00</td>\n",
       "    </tr>\n",
       "    <tr>\n",
       "      <th>12</th>\n",
       "      <td>0</td>\n",
       "      <td>8851932345736</td>\n",
       "      <td>1</td>\n",
       "      <td>1.00</td>\n",
       "    </tr>\n",
       "    <tr>\n",
       "      <th>13</th>\n",
       "      <td>0</td>\n",
       "      <td>8990121011028</td>\n",
       "      <td>3</td>\n",
       "      <td>1.00</td>\n",
       "    </tr>\n",
       "    <tr>\n",
       "      <th>15</th>\n",
       "      <td>0</td>\n",
       "      <td>8992694020155</td>\n",
       "      <td>15</td>\n",
       "      <td>11.00</td>\n",
       "    </tr>\n",
       "  </tbody>\n",
       "</table>\n",
       "</div>"
      ],
      "text/plain": [
       "    month_yr        barcode  qty_cnt  qty_cnt_month\n",
       "0          0  4800888137319       15          12.00\n",
       "3          0  4800888157959       11          13.00\n",
       "5          0  4800888157973        2           8.00\n",
       "6          0  8851932171427       19           7.00\n",
       "7          0  8851932172264       12          13.00\n",
       "10         0  8851932221528       19          16.00\n",
       "11         0  8851932345088        2           3.00\n",
       "12         0  8851932345736        1           1.00\n",
       "13         0  8990121011028        3           1.00\n",
       "15         0  8992694020155       15          11.00"
      ]
     },
     "metadata": {},
     "output_type": "display_data"
    }
   ],
   "source": [
    "# train_monthly = train[['date', 'date_block_num', 'shop_id', 'item_id', 'item_cnt_day']]\n",
    "# train_monthly = train_monthly.sort_values('date').groupby(['date_block_num', 'shop_id', 'item_id'], as_index=False)\n",
    "# train_monthly = train_monthly.agg({'item_cnt_day':['sum']})\n",
    "# train_monthly.columns = ['date_block_num', 'shop_id', 'item_id', 'item_cnt']\n",
    "# train_monthly = train_monthly.query('item_cnt >= 0 and item_cnt <= 20')\n",
    "# Label\n",
    "# train_monthly['item_cnt_month'] = train_monthly.sort_values('date_block_num').groupby(['shop_id', 'item_id'])['item_cnt'].shift(-1)\n",
    "\n",
    "# display(train_monthly.head(10).T)\n",
    "# display(train_monthly.describe().T)\n",
    "\n",
    "train_monthly = train[['date', 'month_yr', 'barcode', 'qty']]\n",
    "train_monthly = train_monthly.sort_values('date').groupby(['month_yr', 'barcode'], as_index=False)\n",
    "train_monthly = train_monthly.agg({'qty':['sum']})\n",
    "train_monthly.columns = ['month_yr', 'barcode', 'qty_cnt']\n",
    "train_monthly = train_monthly.query('qty_cnt >= 0 and qty_cnt <= 20')\n",
    "\n",
    "# Label\n",
    "train_monthly['qty_cnt_month'] = train_monthly.sort_values('month_yr').groupby(['barcode',])['qty_cnt'].shift(-1)\n",
    "\n",
    "display(train_monthly.head(10))\n",
    "# display(train_monthly.describe())"
   ]
  },
  {
   "cell_type": "markdown",
   "metadata": {},
   "source": [
    "## Time-Series Processing\n",
    "\n",
    "- As I only need the \"item_cnt\" feature as a series, I can get that easily by just using a pivot operation.\n",
    "- This way I'll also get the missing months from each \"shop_id\" and \"item_id\", and then replace them with 0 (otherwise would be \"nan\")."
   ]
  },
  {
   "cell_type": "code",
   "execution_count": 23,
   "metadata": {},
   "outputs": [
    {
     "data": {
      "text/html": [
       "<div>\n",
       "<style scoped>\n",
       "    .dataframe tbody tr th:only-of-type {\n",
       "        vertical-align: middle;\n",
       "    }\n",
       "\n",
       "    .dataframe tbody tr th {\n",
       "        vertical-align: top;\n",
       "    }\n",
       "\n",
       "    .dataframe thead th {\n",
       "        text-align: right;\n",
       "    }\n",
       "</style>\n",
       "<table border=\"1\" class=\"dataframe\">\n",
       "  <thead>\n",
       "    <tr style=\"text-align: right;\">\n",
       "      <th>month_yr</th>\n",
       "      <th>barcode</th>\n",
       "      <th>0</th>\n",
       "      <th>1</th>\n",
       "      <th>2</th>\n",
       "      <th>3</th>\n",
       "      <th>4</th>\n",
       "      <th>5</th>\n",
       "      <th>6</th>\n",
       "      <th>7</th>\n",
       "      <th>8</th>\n",
       "      <th>...</th>\n",
       "      <th>26</th>\n",
       "      <th>27</th>\n",
       "      <th>28</th>\n",
       "      <th>29</th>\n",
       "      <th>30</th>\n",
       "      <th>31</th>\n",
       "      <th>32</th>\n",
       "      <th>33</th>\n",
       "      <th>34</th>\n",
       "      <th>35</th>\n",
       "    </tr>\n",
       "  </thead>\n",
       "  <tbody>\n",
       "    <tr>\n",
       "      <th>0</th>\n",
       "      <td>4800888137319</td>\n",
       "      <td>15</td>\n",
       "      <td>0</td>\n",
       "      <td>0</td>\n",
       "      <td>12</td>\n",
       "      <td>0</td>\n",
       "      <td>17</td>\n",
       "      <td>0</td>\n",
       "      <td>14</td>\n",
       "      <td>9</td>\n",
       "      <td>...</td>\n",
       "      <td>16</td>\n",
       "      <td>15</td>\n",
       "      <td>15</td>\n",
       "      <td>9</td>\n",
       "      <td>17</td>\n",
       "      <td>11</td>\n",
       "      <td>13</td>\n",
       "      <td>14</td>\n",
       "      <td>14</td>\n",
       "      <td>13</td>\n",
       "    </tr>\n",
       "    <tr>\n",
       "      <th>1</th>\n",
       "      <td>4800888141125</td>\n",
       "      <td>0</td>\n",
       "      <td>0</td>\n",
       "      <td>0</td>\n",
       "      <td>0</td>\n",
       "      <td>0</td>\n",
       "      <td>0</td>\n",
       "      <td>0</td>\n",
       "      <td>0</td>\n",
       "      <td>0</td>\n",
       "      <td>...</td>\n",
       "      <td>0</td>\n",
       "      <td>0</td>\n",
       "      <td>0</td>\n",
       "      <td>0</td>\n",
       "      <td>0</td>\n",
       "      <td>0</td>\n",
       "      <td>13</td>\n",
       "      <td>0</td>\n",
       "      <td>0</td>\n",
       "      <td>0</td>\n",
       "    </tr>\n",
       "    <tr>\n",
       "      <th>2</th>\n",
       "      <td>4800888157942</td>\n",
       "      <td>0</td>\n",
       "      <td>0</td>\n",
       "      <td>0</td>\n",
       "      <td>0</td>\n",
       "      <td>19</td>\n",
       "      <td>0</td>\n",
       "      <td>19</td>\n",
       "      <td>0</td>\n",
       "      <td>12</td>\n",
       "      <td>...</td>\n",
       "      <td>1</td>\n",
       "      <td>2</td>\n",
       "      <td>2</td>\n",
       "      <td>0</td>\n",
       "      <td>1</td>\n",
       "      <td>5</td>\n",
       "      <td>4</td>\n",
       "      <td>1</td>\n",
       "      <td>1</td>\n",
       "      <td>4</td>\n",
       "    </tr>\n",
       "    <tr>\n",
       "      <th>3</th>\n",
       "      <td>4800888157959</td>\n",
       "      <td>11</td>\n",
       "      <td>13</td>\n",
       "      <td>12</td>\n",
       "      <td>13</td>\n",
       "      <td>9</td>\n",
       "      <td>5</td>\n",
       "      <td>5</td>\n",
       "      <td>4</td>\n",
       "      <td>7</td>\n",
       "      <td>...</td>\n",
       "      <td>8</td>\n",
       "      <td>11</td>\n",
       "      <td>4</td>\n",
       "      <td>10</td>\n",
       "      <td>5</td>\n",
       "      <td>6</td>\n",
       "      <td>6</td>\n",
       "      <td>3</td>\n",
       "      <td>3</td>\n",
       "      <td>7</td>\n",
       "    </tr>\n",
       "    <tr>\n",
       "      <th>4</th>\n",
       "      <td>4800888157966</td>\n",
       "      <td>0</td>\n",
       "      <td>0</td>\n",
       "      <td>0</td>\n",
       "      <td>19</td>\n",
       "      <td>12</td>\n",
       "      <td>18</td>\n",
       "      <td>0</td>\n",
       "      <td>0</td>\n",
       "      <td>0</td>\n",
       "      <td>...</td>\n",
       "      <td>0</td>\n",
       "      <td>0</td>\n",
       "      <td>0</td>\n",
       "      <td>0</td>\n",
       "      <td>0</td>\n",
       "      <td>0</td>\n",
       "      <td>0</td>\n",
       "      <td>0</td>\n",
       "      <td>18</td>\n",
       "      <td>0</td>\n",
       "    </tr>\n",
       "  </tbody>\n",
       "</table>\n",
       "<p>5 rows × 35 columns</p>\n",
       "</div>"
      ],
      "text/plain": [
       "month_yr        barcode   0   1   2   3   4   5   6   7   8  ...  26  27  28  \\\n",
       "0         4800888137319  15   0   0  12   0  17   0  14   9  ...  16  15  15   \n",
       "1         4800888141125   0   0   0   0   0   0   0   0   0  ...   0   0   0   \n",
       "2         4800888157942   0   0   0   0  19   0  19   0  12  ...   1   2   2   \n",
       "3         4800888157959  11  13  12  13   9   5   5   4   7  ...   8  11   4   \n",
       "4         4800888157966   0   0   0  19  12  18   0   0   0  ...   0   0   0   \n",
       "\n",
       "month_yr  29  30  31  32  33  34  35  \n",
       "0          9  17  11  13  14  14  13  \n",
       "1          0   0   0  13   0   0   0  \n",
       "2          0   1   5   4   1   1   4  \n",
       "3         10   5   6   6   3   3   7  \n",
       "4          0   0   0   0   0  18   0  \n",
       "\n",
       "[5 rows x 35 columns]"
      ]
     },
     "execution_count": 23,
     "metadata": {},
     "output_type": "execute_result"
    }
   ],
   "source": [
    "monthly_series = train_monthly.pivot_table(index=['barcode',], columns='month_yr',values='qty_cnt', fill_value=0).reset_index()\n",
    "monthly_series.head()"
   ]
  },
  {
   "cell_type": "markdown",
   "metadata": {},
   "source": [
    "Currently I have one series (33 months) for each unique pair of \"shop_id\" and \"item_id\", but probably would be better to have multiple smaller series for each unique pair, so I'm generating multiple series of size 12 (one year) for each unique pair"
   ]
  },
  {
   "cell_type": "code",
   "execution_count": 27,
   "metadata": {},
   "outputs": [
    {
     "ename": "AttributeError",
     "evalue": "'str' object has no attribute 'append'",
     "output_type": "error",
     "traceback": [
      "\u001b[1;31m---------------------------------------------------------------------------\u001b[0m",
      "\u001b[1;31mAttributeError\u001b[0m                            Traceback (most recent call last)",
      "\u001b[1;32m~\\AppData\\Local\\Temp/ipykernel_8940/2433267226.py\u001b[0m in \u001b[0;36m<module>\u001b[1;34m\u001b[0m\n\u001b[0;32m      8\u001b[0m         \u001b[0mserie\u001b[0m \u001b[1;33m=\u001b[0m \u001b[0mrow\u001b[0m\u001b[1;33m[\u001b[0m\u001b[1;34m'barcode'\u001b[0m\u001b[1;33m]\u001b[0m\u001b[1;33m\u001b[0m\u001b[1;33m\u001b[0m\u001b[0m\n\u001b[0;32m      9\u001b[0m         \u001b[1;32mfor\u001b[0m \u001b[0mmonth2\u001b[0m \u001b[1;32min\u001b[0m \u001b[0mrange\u001b[0m\u001b[1;33m(\u001b[0m\u001b[0mserie_size\u001b[0m \u001b[1;33m+\u001b[0m \u001b[1;36m1\u001b[0m\u001b[1;33m)\u001b[0m\u001b[1;33m:\u001b[0m\u001b[1;33m\u001b[0m\u001b[1;33m\u001b[0m\u001b[0m\n\u001b[1;32m---> 10\u001b[1;33m             \u001b[0mserie\u001b[0m\u001b[1;33m.\u001b[0m\u001b[0mappend\u001b[0m\u001b[1;33m(\u001b[0m\u001b[0mrow\u001b[0m\u001b[1;33m[\u001b[0m\u001b[0mmonth1\u001b[0m \u001b[1;33m+\u001b[0m \u001b[0mfirst_month\u001b[0m \u001b[1;33m+\u001b[0m \u001b[0mmonth2\u001b[0m\u001b[1;33m]\u001b[0m\u001b[1;33m)\u001b[0m\u001b[1;33m\u001b[0m\u001b[1;33m\u001b[0m\u001b[0m\n\u001b[0m\u001b[0;32m     11\u001b[0m         \u001b[0mdata_series\u001b[0m\u001b[1;33m.\u001b[0m\u001b[0mappend\u001b[0m\u001b[1;33m(\u001b[0m\u001b[0mserie\u001b[0m\u001b[1;33m)\u001b[0m\u001b[1;33m\u001b[0m\u001b[1;33m\u001b[0m\u001b[0m\n\u001b[0;32m     12\u001b[0m \u001b[1;33m\u001b[0m\u001b[0m\n",
      "\u001b[1;31mAttributeError\u001b[0m: 'str' object has no attribute 'append'"
     ]
    }
   ],
   "source": [
    "first_month = 34\n",
    "last_month = 47\n",
    "serie_size = 12\n",
    "data_series = []\n",
    "\n",
    "for index, row in monthly_series.iterrows():\n",
    "    for month1 in range((last_month - (first_month + serie_size)) + 1):\n",
    "        serie = row['barcode']\n",
    "        for month2 in range(serie_size + 1):\n",
    "            serie.append(row[month1 + first_month + month2])\n",
    "        data_series.append(serie)\n",
    "\n",
    "columns = ['barcode']\n",
    "[columns.append(i) for i in range(serie_size)]\n",
    "columns.append('label')\n",
    "\n",
    "data_series = pd.DataFrame(data_series, columns=columns)\n",
    "data_series.head(10)"
   ]
  },
  {
   "cell_type": "markdown",
   "metadata": {},
   "source": [
    "## Dropping identifier columns as we don't need them anymore"
   ]
  },
  {
   "cell_type": "code",
   "execution_count": null,
   "metadata": {},
   "outputs": [],
   "source": [
    "data_series = data_series.drop(['barcode'], axis=1)"
   ]
  },
  {
   "cell_type": "markdown",
   "metadata": {},
   "source": [
    "## Train and validation sets"
   ]
  },
  {
   "cell_type": "code",
   "execution_count": null,
   "metadata": {},
   "outputs": [],
   "source": [
    "labels = data_series['label']\n",
    "data_series.drop('label', axis=1, inplace=True)\n",
    "train, valid, Y_train, Y_valid = train_test_split(data_series, labels.values, test_size=0.10, random_state=0)"
   ]
  },
  {
   "cell_type": "code",
   "execution_count": null,
   "metadata": {},
   "outputs": [],
   "source": [
    "print(\"Train set\", train.shape)\n",
    "print(\"Validation set\", valid.shape)\n",
    "train.head()"
   ]
  },
  {
   "cell_type": "markdown",
   "metadata": {},
   "source": [
    "## Reshape data.\n",
    "\n",
    "- Time-series shape (data points, time-steps, features)."
   ]
  },
  {
   "cell_type": "code",
   "execution_count": null,
   "metadata": {},
   "outputs": [],
   "source": [
    "X_train = train.values.reshape((train.shape[0], train.shape[1], 1))\n",
    "X_valid = valid.values.reshape((valid.shape[0], valid.shape[1], 1))\n",
    "\n",
    "print(\"Train set reshaped\", X_train.shape)\n",
    "print(\"Validation set reshaped\", X_valid.shape)"
   ]
  },
  {
   "cell_type": "markdown",
   "metadata": {},
   "source": [
    "## Regular GRU model."
   ]
  },
  {
   "cell_type": "code",
   "execution_count": null,
   "metadata": {},
   "outputs": [],
   "source": [
    "serie_size =  X_train.shape[1] # 12\n",
    "n_features =  X_train.shape[2] # 1\n",
    "\n",
    "epochs = 400\n",
    "batch = 32\n",
    "lr = 0.0001\n",
    "\n",
    "lstm_model = Sequential()\n",
    "lstm_model.add(L.GRU(10, input_shape=(serie_size, n_features), return_sequences=True))\n",
    "lstm_model.add(L.GRU(6, activation='relu', return_sequences=True))\n",
    "lstm_model.add(L.GRU(1, activation='relu'))\n",
    "lstm_model.add(L.Dense(10, kernel_initializer='glorot_normal', activation='relu'))\n",
    "lstm_model.add(L.Dense(10, kernel_initializer='glorot_normal', activation='relu'))\n",
    "lstm_model.add(L.Dense(1))\n",
    "lstm_model.summary()\n",
    "\n",
    "adam = optimizers.Adam(lr)\n",
    "lstm_model.compile(loss='mse', optimizer=adam)"
   ]
  },
  {
   "cell_type": "code",
   "execution_count": null,
   "metadata": {},
   "outputs": [],
   "source": [
    "lstm_history = lstm_model.fit(X_train, Y_train, \n",
    "                              validation_data=(X_valid, Y_valid), \n",
    "                              batch_size=batch, \n",
    "                              epochs=epochs, \n",
    "                              verbose=2)"
   ]
  },
  {
   "cell_type": "markdown",
   "metadata": {},
   "source": [
    "###### Model training"
   ]
  },
  {
   "cell_type": "code",
   "execution_count": null,
   "metadata": {},
   "outputs": [],
   "source": [
    "fig, ax1 = plt.subplots(1, sharey=True,figsize=(22,7))\n",
    "\n",
    "ax1.plot(lstm_history.history['loss'], label='Train loss')\n",
    "ax1.plot(lstm_history.history['val_loss'], label='Validation loss')\n",
    "ax1.legend(loc='best')\n",
    "ax1.set_title('Regular GRU')\n",
    "ax1.set_xlabel('Epochs')\n",
    "ax1.set_ylabel('MSE')\n",
    "\n",
    "plt.show()"
   ]
  },
  {
   "cell_type": "markdown",
   "metadata": {},
   "source": [
    "##### Regular GRU on train and validation"
   ]
  },
  {
   "cell_type": "code",
   "execution_count": null,
   "metadata": {},
   "outputs": [],
   "source": [
    "lstm_train_pred = lstm_model.predict(X_train)\n",
    "lstm_val_pred = lstm_model.predict(X_valid)\n",
    "print('Train rmse:', np.sqrt(mean_squared_error(Y_train, lstm_train_pred)))\n",
    "print('Validation rmse:', np.sqrt(mean_squared_error(Y_valid, lstm_val_pred)))"
   ]
  },
  {
   "cell_type": "markdown",
   "metadata": {},
   "source": [
    "##### Build test set\n",
    "Since we have two models I'll build test sets to apply on both of them."
   ]
  },
  {
   "cell_type": "code",
   "execution_count": null,
   "metadata": {},
   "outputs": [],
   "source": [
    "latest_records = monthly_series.drop_duplicates(subset=['barcode',])\n",
    "X_test = pd.merge(test, latest_records, on=['barcode'], how='left', suffixes=['', '_'])\n",
    "X_test.fillna(0, inplace=True)\n",
    "X_test.drop(['barcode'], axis=1, inplace=True)\n",
    "X_test.head()"
   ]
  },
  {
   "cell_type": "markdown",
   "metadata": {},
   "source": [
    "##### Regular LSTM model test predictions\n",
    "- For the regular LSTM model we just need the last 12 months, because that's our series input size."
   ]
  },
  {
   "cell_type": "code",
   "execution_count": null,
   "metadata": {},
   "outputs": [],
   "source": [
    "X_test = X_test[[(i + (48 - serie_size)) for i in range(serie_size)]]\n",
    "X_test.head()"
   ]
  },
  {
   "cell_type": "markdown",
   "metadata": {},
   "source": [
    "##### Reshape data.\n",
    "- Time-series shape (data points, time-steps, features)."
   ]
  },
  {
   "cell_type": "code",
   "execution_count": null,
   "metadata": {},
   "outputs": [],
   "source": [
    "X_test_reshaped = X_test.values.reshape((X_test.shape[0], X_test.shape[1], 1))\n",
    "print(X_test_reshaped.shape)"
   ]
  },
  {
   "cell_type": "markdown",
   "metadata": {},
   "source": [
    "##### Making predictions."
   ]
  },
  {
   "cell_type": "code",
   "execution_count": null,
   "metadata": {},
   "outputs": [],
   "source": [
    "lstm_test_pred = lstm_model.predict(X_test_reshaped)"
   ]
  },
  {
   "cell_type": "markdown",
   "metadata": {},
   "source": [
    "##### Predictions from the regular GRU model."
   ]
  },
  {
   "cell_type": "code",
   "execution_count": null,
   "metadata": {},
   "outputs": [],
   "source": [
    "lstm_test_pred"
   ]
  },
  {
   "cell_type": "code",
   "execution_count": null,
   "metadata": {},
   "outputs": [],
   "source": [
    "# lstm_prediction = pd.DataFrame(test['barcode'], columns=['barcode'])\n",
    "# lstm_prediction['item_cnt_month'] = lstm_test_pred.clip(0., 20.)\n",
    "# lstm_prediction.head(10)\n",
    "\n",
    "# lstm_prediction.to_csv('gru_submission.csv', index=False)"
   ]
  },
  {
   "cell_type": "code",
   "execution_count": null,
   "metadata": {},
   "outputs": [],
   "source": []
  },
  {
   "cell_type": "code",
   "execution_count": null,
   "metadata": {},
   "outputs": [],
   "source": []
  }
 ],
 "metadata": {
  "kernelspec": {
   "display_name": "Python 3 (ipykernel)",
   "language": "python",
   "name": "python3"
  },
  "language_info": {
   "codemirror_mode": {
    "name": "ipython",
    "version": 3
   },
   "file_extension": ".py",
   "mimetype": "text/x-python",
   "name": "python",
   "nbconvert_exporter": "python",
   "pygments_lexer": "ipython3",
   "version": "3.9.7"
  },
  "varInspector": {
   "cols": {
    "lenName": 16,
    "lenType": 16,
    "lenVar": 40
   },
   "kernels_config": {
    "python": {
     "delete_cmd_postfix": "",
     "delete_cmd_prefix": "del ",
     "library": "var_list.py",
     "varRefreshCmd": "print(var_dic_list())"
    },
    "r": {
     "delete_cmd_postfix": ") ",
     "delete_cmd_prefix": "rm(",
     "library": "var_list.r",
     "varRefreshCmd": "cat(var_dic_list()) "
    }
   },
   "types_to_exclude": [
    "module",
    "function",
    "builtin_function_or_method",
    "instance",
    "_Feature"
   ],
   "window_display": false
  }
 },
 "nbformat": 4,
 "nbformat_minor": 4
}
