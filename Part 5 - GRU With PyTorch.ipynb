{
 "cells": [
  {
   "cell_type": "markdown",
   "id": "0eb24991",
   "metadata": {},
   "source": [
    "# Getting Started"
   ]
  },
  {
   "cell_type": "code",
   "execution_count": 2,
   "id": "946c2ad7",
   "metadata": {},
   "outputs": [],
   "source": [
    "import numpy as np\n",
    "import pandas as pd\n",
    "import matplotlib.pyplot as plt\n",
    "import seaborn as sns\n",
    "\n",
    "from sklearn.model_selection import train_test_split\n",
    "from sklearn.preprocessing import StandardScaler\n",
    "\n",
    "import tensorflow as tf\n",
    "\n",
    "from sklearn.metrics import r2_score"
   ]
  },
  {
   "cell_type": "code",
   "execution_count": 3,
   "id": "44a474b3",
   "metadata": {},
   "outputs": [
    {
     "data": {
      "text/html": [
       "<div>\n",
       "<style scoped>\n",
       "    .dataframe tbody tr th:only-of-type {\n",
       "        vertical-align: middle;\n",
       "    }\n",
       "\n",
       "    .dataframe tbody tr th {\n",
       "        vertical-align: top;\n",
       "    }\n",
       "\n",
       "    .dataframe thead th {\n",
       "        text-align: right;\n",
       "    }\n",
       "</style>\n",
       "<table border=\"1\" class=\"dataframe\">\n",
       "  <thead>\n",
       "    <tr style=\"text-align: right;\">\n",
       "      <th></th>\n",
       "      <th>sk</th>\n",
       "      <th>nonota</th>\n",
       "      <th>barcode</th>\n",
       "      <th>hari</th>\n",
       "      <th>bulan</th>\n",
       "      <th>tahun</th>\n",
       "      <th>kuartal</th>\n",
       "      <th>namabarang</th>\n",
       "      <th>satuan</th>\n",
       "      <th>qty</th>\n",
       "      <th>...</th>\n",
       "      <th>keuntungan</th>\n",
       "      <th>keuntungan_persen</th>\n",
       "      <th>subtotal</th>\n",
       "      <th>kodesubkategori</th>\n",
       "      <th>kodecabang</th>\n",
       "      <th>kodeoperator</th>\n",
       "      <th>isbkp</th>\n",
       "      <th>kodecustomer</th>\n",
       "      <th>kodedistributor</th>\n",
       "      <th>kodedistributordivisi</th>\n",
       "    </tr>\n",
       "  </thead>\n",
       "  <tbody>\n",
       "    <tr>\n",
       "      <th>0</th>\n",
       "      <td>101060</td>\n",
       "      <td>22001000618</td>\n",
       "      <td>4902430396028</td>\n",
       "      <td>1</td>\n",
       "      <td>1</td>\n",
       "      <td>2020</td>\n",
       "      <td>1</td>\n",
       "      <td>H&amp;S SHP SS EOL BTL 180ML</td>\n",
       "      <td>BTL</td>\n",
       "      <td>2.0</td>\n",
       "      <td>...</td>\n",
       "      <td>3600.00</td>\n",
       "      <td>15.22</td>\n",
       "      <td>54500.0</td>\n",
       "      <td>03031203</td>\n",
       "      <td>3</td>\n",
       "      <td>OP0045</td>\n",
       "      <td>1</td>\n",
       "      <td>CU00000001</td>\n",
       "      <td>D0045</td>\n",
       "      <td>1056</td>\n",
       "    </tr>\n",
       "    <tr>\n",
       "      <th>1</th>\n",
       "      <td>101061</td>\n",
       "      <td>22001000620</td>\n",
       "      <td>8998866606158</td>\n",
       "      <td>1</td>\n",
       "      <td>1</td>\n",
       "      <td>2020</td>\n",
       "      <td>1</td>\n",
       "      <td>NUVO ACTIVE COOL 110GR*72</td>\n",
       "      <td>PCS</td>\n",
       "      <td>10.0</td>\n",
       "      <td>...</td>\n",
       "      <td>240.00</td>\n",
       "      <td>9.23</td>\n",
       "      <td>28400.0</td>\n",
       "      <td>03030602</td>\n",
       "      <td>3</td>\n",
       "      <td>OP0037</td>\n",
       "      <td>1</td>\n",
       "      <td>CU00000001</td>\n",
       "      <td>D0388</td>\n",
       "      <td>128</td>\n",
       "    </tr>\n",
       "    <tr>\n",
       "      <th>2</th>\n",
       "      <td>101062</td>\n",
       "      <td>22001000618</td>\n",
       "      <td>8997015390122</td>\n",
       "      <td>1</td>\n",
       "      <td>1</td>\n",
       "      <td>2020</td>\n",
       "      <td>1</td>\n",
       "      <td>SEKAR JAGAT LULUR BENGKUANG</td>\n",
       "      <td>PCS</td>\n",
       "      <td>1.0</td>\n",
       "      <td>...</td>\n",
       "      <td>3000.00</td>\n",
       "      <td>37.50</td>\n",
       "      <td>11000.0</td>\n",
       "      <td>03030607</td>\n",
       "      <td>3</td>\n",
       "      <td>OP0045</td>\n",
       "      <td>1</td>\n",
       "      <td>CU00000001</td>\n",
       "      <td>D0615</td>\n",
       "      <td>181</td>\n",
       "    </tr>\n",
       "    <tr>\n",
       "      <th>3</th>\n",
       "      <td>101063</td>\n",
       "      <td>22001000620</td>\n",
       "      <td>011747234191</td>\n",
       "      <td>1</td>\n",
       "      <td>1</td>\n",
       "      <td>2020</td>\n",
       "      <td>1</td>\n",
       "      <td>DOLPIN GARAM BESAR 500GR*24</td>\n",
       "      <td>PCS</td>\n",
       "      <td>2.0</td>\n",
       "      <td>...</td>\n",
       "      <td>500.00</td>\n",
       "      <td>8.85</td>\n",
       "      <td>12300.0</td>\n",
       "      <td>01011101</td>\n",
       "      <td>3</td>\n",
       "      <td>OP0037</td>\n",
       "      <td>0</td>\n",
       "      <td>CU00000001</td>\n",
       "      <td>D0235</td>\n",
       "      <td>82</td>\n",
       "    </tr>\n",
       "    <tr>\n",
       "      <th>4</th>\n",
       "      <td>101064</td>\n",
       "      <td>22001000618</td>\n",
       "      <td>089686441581</td>\n",
       "      <td>1</td>\n",
       "      <td>1</td>\n",
       "      <td>2020</td>\n",
       "      <td>1</td>\n",
       "      <td>INDOFOOD BUMBU NASI GORENG PDS</td>\n",
       "      <td>PCS</td>\n",
       "      <td>2.0</td>\n",
       "      <td>...</td>\n",
       "      <td>350.00</td>\n",
       "      <td>7.78</td>\n",
       "      <td>9700.0</td>\n",
       "      <td>01011103</td>\n",
       "      <td>3</td>\n",
       "      <td>OP0045</td>\n",
       "      <td>1</td>\n",
       "      <td>CU00000001</td>\n",
       "      <td>D0134</td>\n",
       "      <td>59</td>\n",
       "    </tr>\n",
       "    <tr>\n",
       "      <th>...</th>\n",
       "      <td>...</td>\n",
       "      <td>...</td>\n",
       "      <td>...</td>\n",
       "      <td>...</td>\n",
       "      <td>...</td>\n",
       "      <td>...</td>\n",
       "      <td>...</td>\n",
       "      <td>...</td>\n",
       "      <td>...</td>\n",
       "      <td>...</td>\n",
       "      <td>...</td>\n",
       "      <td>...</td>\n",
       "      <td>...</td>\n",
       "      <td>...</td>\n",
       "      <td>...</td>\n",
       "      <td>...</td>\n",
       "      <td>...</td>\n",
       "      <td>...</td>\n",
       "      <td>...</td>\n",
       "      <td>...</td>\n",
       "      <td>...</td>\n",
       "    </tr>\n",
       "    <tr>\n",
       "      <th>349298</th>\n",
       "      <td>101055</td>\n",
       "      <td>22001000618</td>\n",
       "      <td>8999999401238</td>\n",
       "      <td>1</td>\n",
       "      <td>1</td>\n",
       "      <td>2020</td>\n",
       "      <td>1</td>\n",
       "      <td>RINSO ANTINODA 770GR*12</td>\n",
       "      <td>PCS</td>\n",
       "      <td>1.0</td>\n",
       "      <td>...</td>\n",
       "      <td>1250.00</td>\n",
       "      <td>6.93</td>\n",
       "      <td>19300.0</td>\n",
       "      <td>03040101</td>\n",
       "      <td>3</td>\n",
       "      <td>OP0045</td>\n",
       "      <td>1</td>\n",
       "      <td>CU00000001</td>\n",
       "      <td>D0378</td>\n",
       "      <td>124</td>\n",
       "    </tr>\n",
       "    <tr>\n",
       "      <th>349299</th>\n",
       "      <td>101056</td>\n",
       "      <td>22001000620</td>\n",
       "      <td>8999999390198</td>\n",
       "      <td>1</td>\n",
       "      <td>1</td>\n",
       "      <td>2020</td>\n",
       "      <td>1</td>\n",
       "      <td>SUNLIGHT LIME 12*755ML REF</td>\n",
       "      <td>PCS</td>\n",
       "      <td>1.0</td>\n",
       "      <td>...</td>\n",
       "      <td>1050.00</td>\n",
       "      <td>7.34</td>\n",
       "      <td>15350.0</td>\n",
       "      <td>03040201</td>\n",
       "      <td>3</td>\n",
       "      <td>OP0037</td>\n",
       "      <td>1</td>\n",
       "      <td>CU00000001</td>\n",
       "      <td>D0378</td>\n",
       "      <td>124</td>\n",
       "    </tr>\n",
       "    <tr>\n",
       "      <th>349300</th>\n",
       "      <td>101057</td>\n",
       "      <td>22001000620</td>\n",
       "      <td>8999777010638</td>\n",
       "      <td>1</td>\n",
       "      <td>1</td>\n",
       "      <td>2020</td>\n",
       "      <td>1</td>\n",
       "      <td>NIVEA DEO DEEP 50ML</td>\n",
       "      <td>PCS</td>\n",
       "      <td>1.0</td>\n",
       "      <td>...</td>\n",
       "      <td>2475.00</td>\n",
       "      <td>16.36</td>\n",
       "      <td>17600.0</td>\n",
       "      <td>03031207</td>\n",
       "      <td>3</td>\n",
       "      <td>OP0037</td>\n",
       "      <td>1</td>\n",
       "      <td>CU00000001</td>\n",
       "      <td>D0536</td>\n",
       "      <td>1031</td>\n",
       "    </tr>\n",
       "    <tr>\n",
       "      <th>349301</th>\n",
       "      <td>101058</td>\n",
       "      <td>22001000620</td>\n",
       "      <td>8992304009143</td>\n",
       "      <td>1</td>\n",
       "      <td>1</td>\n",
       "      <td>2020</td>\n",
       "      <td>1</td>\n",
       "      <td>GARNIER MEN TURBILIGHT OIL FOM 50M</td>\n",
       "      <td>PCS</td>\n",
       "      <td>1.0</td>\n",
       "      <td>...</td>\n",
       "      <td>2460.00</td>\n",
       "      <td>16.09</td>\n",
       "      <td>17750.0</td>\n",
       "      <td>03031201</td>\n",
       "      <td>3</td>\n",
       "      <td>OP0037</td>\n",
       "      <td>1</td>\n",
       "      <td>CU00000001</td>\n",
       "      <td>D0079</td>\n",
       "      <td>1072</td>\n",
       "    </tr>\n",
       "    <tr>\n",
       "      <th>349302</th>\n",
       "      <td>101059</td>\n",
       "      <td>22001000618</td>\n",
       "      <td>8999999053291</td>\n",
       "      <td>1</td>\n",
       "      <td>1</td>\n",
       "      <td>2020</td>\n",
       "      <td>1</td>\n",
       "      <td>LIFEBUOY TS LEMONFRESH 24*(4*110G)</td>\n",
       "      <td>PAK</td>\n",
       "      <td>1.0</td>\n",
       "      <td>...</td>\n",
       "      <td>999.98</td>\n",
       "      <td>7.17</td>\n",
       "      <td>14950.0</td>\n",
       "      <td>03030602</td>\n",
       "      <td>3</td>\n",
       "      <td>OP0045</td>\n",
       "      <td>1</td>\n",
       "      <td>CU00000001</td>\n",
       "      <td>D0378</td>\n",
       "      <td>124</td>\n",
       "    </tr>\n",
       "  </tbody>\n",
       "</table>\n",
       "<p>349303 rows × 24 columns</p>\n",
       "</div>"
      ],
      "text/plain": [
       "            sk       nonota        barcode  hari  bulan  tahun  kuartal  \\\n",
       "0       101060  22001000618  4902430396028     1      1   2020        1   \n",
       "1       101061  22001000620  8998866606158     1      1   2020        1   \n",
       "2       101062  22001000618  8997015390122     1      1   2020        1   \n",
       "3       101063  22001000620   011747234191     1      1   2020        1   \n",
       "4       101064  22001000618   089686441581     1      1   2020        1   \n",
       "...        ...          ...            ...   ...    ...    ...      ...   \n",
       "349298  101055  22001000618  8999999401238     1      1   2020        1   \n",
       "349299  101056  22001000620  8999999390198     1      1   2020        1   \n",
       "349300  101057  22001000620  8999777010638     1      1   2020        1   \n",
       "349301  101058  22001000620  8992304009143     1      1   2020        1   \n",
       "349302  101059  22001000618  8999999053291     1      1   2020        1   \n",
       "\n",
       "                                namabarang satuan   qty  ...  keuntungan  \\\n",
       "0                 H&S SHP SS EOL BTL 180ML    BTL   2.0  ...     3600.00   \n",
       "1                NUVO ACTIVE COOL 110GR*72    PCS  10.0  ...      240.00   \n",
       "2              SEKAR JAGAT LULUR BENGKUANG    PCS   1.0  ...     3000.00   \n",
       "3              DOLPIN GARAM BESAR 500GR*24    PCS   2.0  ...      500.00   \n",
       "4           INDOFOOD BUMBU NASI GORENG PDS    PCS   2.0  ...      350.00   \n",
       "...                                    ...    ...   ...  ...         ...   \n",
       "349298             RINSO ANTINODA 770GR*12    PCS   1.0  ...     1250.00   \n",
       "349299          SUNLIGHT LIME 12*755ML REF    PCS   1.0  ...     1050.00   \n",
       "349300                 NIVEA DEO DEEP 50ML    PCS   1.0  ...     2475.00   \n",
       "349301  GARNIER MEN TURBILIGHT OIL FOM 50M    PCS   1.0  ...     2460.00   \n",
       "349302  LIFEBUOY TS LEMONFRESH 24*(4*110G)    PAK   1.0  ...      999.98   \n",
       "\n",
       "        keuntungan_persen  subtotal  kodesubkategori  kodecabang  \\\n",
       "0                   15.22   54500.0         03031203           3   \n",
       "1                    9.23   28400.0         03030602           3   \n",
       "2                   37.50   11000.0         03030607           3   \n",
       "3                    8.85   12300.0         01011101           3   \n",
       "4                    7.78    9700.0         01011103           3   \n",
       "...                   ...       ...              ...         ...   \n",
       "349298               6.93   19300.0         03040101           3   \n",
       "349299               7.34   15350.0         03040201           3   \n",
       "349300              16.36   17600.0         03031207           3   \n",
       "349301              16.09   17750.0         03031201           3   \n",
       "349302               7.17   14950.0         03030602           3   \n",
       "\n",
       "        kodeoperator  isbkp kodecustomer  kodedistributor  \\\n",
       "0             OP0045      1   CU00000001            D0045   \n",
       "1             OP0037      1   CU00000001            D0388   \n",
       "2             OP0045      1   CU00000001            D0615   \n",
       "3             OP0037      0   CU00000001            D0235   \n",
       "4             OP0045      1   CU00000001            D0134   \n",
       "...              ...    ...          ...              ...   \n",
       "349298        OP0045      1   CU00000001            D0378   \n",
       "349299        OP0037      1   CU00000001            D0378   \n",
       "349300        OP0037      1   CU00000001            D0536   \n",
       "349301        OP0037      1   CU00000001            D0079   \n",
       "349302        OP0045      1   CU00000001            D0378   \n",
       "\n",
       "       kodedistributordivisi  \n",
       "0                       1056  \n",
       "1                        128  \n",
       "2                        181  \n",
       "3                         82  \n",
       "4                         59  \n",
       "...                      ...  \n",
       "349298                   124  \n",
       "349299                   124  \n",
       "349300                  1031  \n",
       "349301                  1072  \n",
       "349302                   124  \n",
       "\n",
       "[349303 rows x 24 columns]"
      ]
     },
     "execution_count": 3,
     "metadata": {},
     "output_type": "execute_result"
    }
   ],
   "source": [
    "data = pd.read_csv(\"data/fakta_penjualan_barangg_202112081901.csv\")\n",
    "data"
   ]
  },
  {
   "cell_type": "code",
   "execution_count": 4,
   "id": "55267b36",
   "metadata": {},
   "outputs": [
    {
     "name": "stdout",
     "output_type": "stream",
     "text": [
      "<class 'pandas.core.frame.DataFrame'>\n",
      "RangeIndex: 349303 entries, 0 to 349302\n",
      "Data columns (total 24 columns):\n",
      " #   Column                 Non-Null Count   Dtype  \n",
      "---  ------                 --------------   -----  \n",
      " 0   sk                     349303 non-null  int64  \n",
      " 1   nonota                 349303 non-null  int64  \n",
      " 2   barcode                349303 non-null  object \n",
      " 3   hari                   349303 non-null  int64  \n",
      " 4   bulan                  349303 non-null  int64  \n",
      " 5   tahun                  349303 non-null  int64  \n",
      " 6   kuartal                349303 non-null  int64  \n",
      " 7   namabarang             349303 non-null  object \n",
      " 8   satuan                 349303 non-null  object \n",
      " 9   qty                    349303 non-null  float64\n",
      " 10  hargajual              349303 non-null  float64\n",
      " 11  hargabeli              349303 non-null  float64\n",
      " 12  diskon                 349303 non-null  float64\n",
      " 13  hargajual2             349303 non-null  float64\n",
      " 14  keuntungan             349303 non-null  float64\n",
      " 15  keuntungan_persen      349303 non-null  float64\n",
      " 16  subtotal               349303 non-null  float64\n",
      " 17  kodesubkategori        349302 non-null  object \n",
      " 18  kodecabang             349303 non-null  int64  \n",
      " 19  kodeoperator           349303 non-null  object \n",
      " 20  isbkp                  349303 non-null  int64  \n",
      " 21  kodecustomer           349303 non-null  object \n",
      " 22  kodedistributor        349303 non-null  object \n",
      " 23  kodedistributordivisi  349303 non-null  int64  \n",
      "dtypes: float64(8), int64(9), object(7)\n",
      "memory usage: 64.0+ MB\n"
     ]
    }
   ],
   "source": [
    "data.info()"
   ]
  },
  {
   "cell_type": "markdown",
   "id": "7318a2aa",
   "metadata": {},
   "source": [
    "# Preprocessing"
   ]
  },
  {
   "cell_type": "code",
   "execution_count": null,
   "id": "313462dd",
   "metadata": {},
   "outputs": [],
   "source": [
    "def encode_dates(df, column):\n",
    "    df = df.copy()\n",
    "    df[column] = pd.to_datetime(df[column])\n",
    "    df[column + '_year'] = df[column].apply(lambda x: x.year)\n",
    "    df[column + '_month'] = df[column].apply(lambda x: x.month)\n",
    "    df[column + '_day'] = df[column].apply(lambda x: x.day)\n",
    "    df = df.drop(column, axis=1)\n",
    "    return df\n",
    "\n",
    "def onehot_encode(df, column):\n",
    "    df = df.copy()\n",
    "    dummies = pd.get_dummies(df[column], prefix=column)\n",
    "    df = pd.concat([df, dummies], axis=1)\n",
    "    df = df.drop(column, axis=1)\n",
    "    return df"
   ]
  },
  {
   "cell_type": "code",
   "execution_count": 17,
   "id": "06a63495",
   "metadata": {},
   "outputs": [],
   "source": [
    "def preprocess_inputs(df):\n",
    "    df = df.copy()\n",
    "    \n",
    "    #drop column yang tidak penting\n",
    "    df = df.drop(['sk', 'nonota', 'namabarang', 'hargajual', 'hargabeli', 'hargajual', 'diskon', 'hargajual2', 'keuntungan', 'keuntungan_persen', 'subtotal', 'kodesubkategori', 'kodecabang', 'kodeoperator', 'isbkp', 'kodecustomer', 'kodedistributor', 'kodedistributordivisi'], axis=1)\n",
    "    \n",
    "    \n",
    "    return df"
   ]
  },
  {
   "cell_type": "code",
   "execution_count": 18,
   "id": "ae55185d",
   "metadata": {},
   "outputs": [],
   "source": [
    "X = preprocess_inputs(data)"
   ]
  },
  {
   "cell_type": "code",
   "execution_count": 19,
   "id": "e50e6536",
   "metadata": {},
   "outputs": [
    {
     "data": {
      "text/plain": [
       "{'barcode': 13319,\n",
       " 'hari': 31,\n",
       " 'bulan': 2,\n",
       " 'tahun': 1,\n",
       " 'kuartal': 1,\n",
       " 'satuan': 49,\n",
       " 'qty': 1222}"
      ]
     },
     "execution_count": 19,
     "metadata": {},
     "output_type": "execute_result"
    }
   ],
   "source": [
    "{column: len(X[column].unique()) for column in X.columns}"
   ]
  },
  {
   "cell_type": "code",
   "execution_count": 20,
   "id": "3b09385b",
   "metadata": {},
   "outputs": [
    {
     "data": {
      "text/html": [
       "<div>\n",
       "<style scoped>\n",
       "    .dataframe tbody tr th:only-of-type {\n",
       "        vertical-align: middle;\n",
       "    }\n",
       "\n",
       "    .dataframe tbody tr th {\n",
       "        vertical-align: top;\n",
       "    }\n",
       "\n",
       "    .dataframe thead th {\n",
       "        text-align: right;\n",
       "    }\n",
       "</style>\n",
       "<table border=\"1\" class=\"dataframe\">\n",
       "  <thead>\n",
       "    <tr style=\"text-align: right;\">\n",
       "      <th></th>\n",
       "      <th>barcode</th>\n",
       "      <th>hari</th>\n",
       "      <th>bulan</th>\n",
       "      <th>tahun</th>\n",
       "      <th>kuartal</th>\n",
       "      <th>satuan</th>\n",
       "      <th>qty</th>\n",
       "    </tr>\n",
       "  </thead>\n",
       "  <tbody>\n",
       "    <tr>\n",
       "      <th>0</th>\n",
       "      <td>4902430396028</td>\n",
       "      <td>1</td>\n",
       "      <td>1</td>\n",
       "      <td>2020</td>\n",
       "      <td>1</td>\n",
       "      <td>BTL</td>\n",
       "      <td>2.0</td>\n",
       "    </tr>\n",
       "    <tr>\n",
       "      <th>1</th>\n",
       "      <td>8998866606158</td>\n",
       "      <td>1</td>\n",
       "      <td>1</td>\n",
       "      <td>2020</td>\n",
       "      <td>1</td>\n",
       "      <td>PCS</td>\n",
       "      <td>10.0</td>\n",
       "    </tr>\n",
       "    <tr>\n",
       "      <th>2</th>\n",
       "      <td>8997015390122</td>\n",
       "      <td>1</td>\n",
       "      <td>1</td>\n",
       "      <td>2020</td>\n",
       "      <td>1</td>\n",
       "      <td>PCS</td>\n",
       "      <td>1.0</td>\n",
       "    </tr>\n",
       "    <tr>\n",
       "      <th>3</th>\n",
       "      <td>011747234191</td>\n",
       "      <td>1</td>\n",
       "      <td>1</td>\n",
       "      <td>2020</td>\n",
       "      <td>1</td>\n",
       "      <td>PCS</td>\n",
       "      <td>2.0</td>\n",
       "    </tr>\n",
       "    <tr>\n",
       "      <th>4</th>\n",
       "      <td>089686441581</td>\n",
       "      <td>1</td>\n",
       "      <td>1</td>\n",
       "      <td>2020</td>\n",
       "      <td>1</td>\n",
       "      <td>PCS</td>\n",
       "      <td>2.0</td>\n",
       "    </tr>\n",
       "    <tr>\n",
       "      <th>...</th>\n",
       "      <td>...</td>\n",
       "      <td>...</td>\n",
       "      <td>...</td>\n",
       "      <td>...</td>\n",
       "      <td>...</td>\n",
       "      <td>...</td>\n",
       "      <td>...</td>\n",
       "    </tr>\n",
       "    <tr>\n",
       "      <th>349298</th>\n",
       "      <td>8999999401238</td>\n",
       "      <td>1</td>\n",
       "      <td>1</td>\n",
       "      <td>2020</td>\n",
       "      <td>1</td>\n",
       "      <td>PCS</td>\n",
       "      <td>1.0</td>\n",
       "    </tr>\n",
       "    <tr>\n",
       "      <th>349299</th>\n",
       "      <td>8999999390198</td>\n",
       "      <td>1</td>\n",
       "      <td>1</td>\n",
       "      <td>2020</td>\n",
       "      <td>1</td>\n",
       "      <td>PCS</td>\n",
       "      <td>1.0</td>\n",
       "    </tr>\n",
       "    <tr>\n",
       "      <th>349300</th>\n",
       "      <td>8999777010638</td>\n",
       "      <td>1</td>\n",
       "      <td>1</td>\n",
       "      <td>2020</td>\n",
       "      <td>1</td>\n",
       "      <td>PCS</td>\n",
       "      <td>1.0</td>\n",
       "    </tr>\n",
       "    <tr>\n",
       "      <th>349301</th>\n",
       "      <td>8992304009143</td>\n",
       "      <td>1</td>\n",
       "      <td>1</td>\n",
       "      <td>2020</td>\n",
       "      <td>1</td>\n",
       "      <td>PCS</td>\n",
       "      <td>1.0</td>\n",
       "    </tr>\n",
       "    <tr>\n",
       "      <th>349302</th>\n",
       "      <td>8999999053291</td>\n",
       "      <td>1</td>\n",
       "      <td>1</td>\n",
       "      <td>2020</td>\n",
       "      <td>1</td>\n",
       "      <td>PAK</td>\n",
       "      <td>1.0</td>\n",
       "    </tr>\n",
       "  </tbody>\n",
       "</table>\n",
       "<p>349303 rows × 7 columns</p>\n",
       "</div>"
      ],
      "text/plain": [
       "              barcode  hari  bulan  tahun  kuartal satuan   qty\n",
       "0       4902430396028     1      1   2020        1    BTL   2.0\n",
       "1       8998866606158     1      1   2020        1    PCS  10.0\n",
       "2       8997015390122     1      1   2020        1    PCS   1.0\n",
       "3        011747234191     1      1   2020        1    PCS   2.0\n",
       "4        089686441581     1      1   2020        1    PCS   2.0\n",
       "...               ...   ...    ...    ...      ...    ...   ...\n",
       "349298  8999999401238     1      1   2020        1    PCS   1.0\n",
       "349299  8999999390198     1      1   2020        1    PCS   1.0\n",
       "349300  8999777010638     1      1   2020        1    PCS   1.0\n",
       "349301  8992304009143     1      1   2020        1    PCS   1.0\n",
       "349302  8999999053291     1      1   2020        1    PAK   1.0\n",
       "\n",
       "[349303 rows x 7 columns]"
      ]
     },
     "execution_count": 20,
     "metadata": {},
     "output_type": "execute_result"
    }
   ],
   "source": [
    "X"
   ]
  },
  {
   "cell_type": "code",
   "execution_count": null,
   "id": "25ada5ae",
   "metadata": {},
   "outputs": [],
   "source": []
  },
  {
   "cell_type": "code",
   "execution_count": null,
   "id": "d0dfa965",
   "metadata": {},
   "outputs": [],
   "source": []
  },
  {
   "cell_type": "code",
   "execution_count": null,
   "id": "93e00344",
   "metadata": {},
   "outputs": [],
   "source": []
  },
  {
   "cell_type": "code",
   "execution_count": null,
   "id": "08e6c20a",
   "metadata": {},
   "outputs": [],
   "source": []
  },
  {
   "cell_type": "code",
   "execution_count": null,
   "id": "9651b2fa",
   "metadata": {},
   "outputs": [],
   "source": []
  },
  {
   "cell_type": "code",
   "execution_count": null,
   "id": "4dd0b3ec",
   "metadata": {},
   "outputs": [],
   "source": []
  },
  {
   "cell_type": "code",
   "execution_count": null,
   "id": "b64317a8",
   "metadata": {},
   "outputs": [],
   "source": []
  },
  {
   "cell_type": "code",
   "execution_count": null,
   "id": "057f01f2",
   "metadata": {},
   "outputs": [],
   "source": []
  },
  {
   "cell_type": "code",
   "execution_count": null,
   "id": "705410fe",
   "metadata": {},
   "outputs": [],
   "source": []
  },
  {
   "cell_type": "code",
   "execution_count": null,
   "id": "1754ecc4",
   "metadata": {},
   "outputs": [],
   "source": []
  },
  {
   "cell_type": "code",
   "execution_count": null,
   "id": "ad5f644c",
   "metadata": {},
   "outputs": [],
   "source": []
  },
  {
   "cell_type": "code",
   "execution_count": null,
   "id": "850f5799",
   "metadata": {},
   "outputs": [],
   "source": []
  },
  {
   "cell_type": "code",
   "execution_count": null,
   "id": "e74dee5d",
   "metadata": {},
   "outputs": [],
   "source": []
  },
  {
   "cell_type": "code",
   "execution_count": null,
   "id": "8d5b82ea",
   "metadata": {},
   "outputs": [],
   "source": []
  },
  {
   "cell_type": "code",
   "execution_count": null,
   "id": "4de31df5",
   "metadata": {},
   "outputs": [],
   "source": []
  },
  {
   "cell_type": "code",
   "execution_count": null,
   "id": "ab004f0d",
   "metadata": {},
   "outputs": [],
   "source": []
  },
  {
   "cell_type": "code",
   "execution_count": null,
   "id": "188f1eef",
   "metadata": {},
   "outputs": [],
   "source": []
  },
  {
   "cell_type": "code",
   "execution_count": null,
   "id": "0afcb61b",
   "metadata": {},
   "outputs": [],
   "source": [
    "import numpy as np\n",
    "import pandas as pd\n",
    "import matplotlib.pyplot as plt\n",
    "import seaborn as sns\n",
    "\n",
    "from sklearn.model_selection import train_test_split"
   ]
  },
  {
   "cell_type": "code",
   "execution_count": null,
   "id": "bff046d5",
   "metadata": {},
   "outputs": [],
   "source": [
    "import torch\n",
    "from torch import nn, optim\n",
    "from jcopdl.callback import Callback, set_config\n",
    "\n",
    "device = torch.device(\"cuda:0\" if torch.cuda.is_available() else \"cpu\")\n",
    "device"
   ]
  },
  {
   "cell_type": "code",
   "execution_count": null,
   "id": "68f6a77b",
   "metadata": {
    "scrolled": true
   },
   "outputs": [],
   "source": [
    "tes = pd.read_csv(\"data/fakta_penjualan_barangg_202112081901.csv\")\n",
    "tes"
   ]
  },
  {
   "cell_type": "code",
   "execution_count": null,
   "id": "ec6bf13f",
   "metadata": {},
   "outputs": [],
   "source": [
    "tes['Date'] = tes['hari'].map(str) + '/' + tes['bulan'].map(str) + '/' + tes['tahun'].map(str)\n",
    "tes.head()"
   ]
  },
  {
   "cell_type": "code",
   "execution_count": null,
   "id": "c1391201",
   "metadata": {},
   "outputs": [],
   "source": [
    "tes['Date'] = pd.to_datetime(tes['Date'],format='%d/%m/%Y')"
   ]
  },
  {
   "cell_type": "code",
   "execution_count": null,
   "id": "c2e83437",
   "metadata": {},
   "outputs": [],
   "source": [
    "tes[\"qty\"] = tes[\"qty\"].astype(int)"
   ]
  },
  {
   "cell_type": "code",
   "execution_count": null,
   "id": "2c48b829",
   "metadata": {},
   "outputs": [],
   "source": [
    "stok = tes.groupby(['Date', 'barcode'])['qty'].sum().reset_index(name='stok')\n",
    "stok"
   ]
  },
  {
   "cell_type": "code",
   "execution_count": null,
   "id": "7a543139",
   "metadata": {},
   "outputs": [],
   "source": [
    "stok.dtypes"
   ]
  },
  {
   "cell_type": "code",
   "execution_count": null,
   "id": "d6f9e653",
   "metadata": {},
   "outputs": [],
   "source": [
    "stok.resample(rule='M', on='date')['Date'].sum()"
   ]
  },
  {
   "cell_type": "code",
   "execution_count": null,
   "id": "79483f77",
   "metadata": {},
   "outputs": [],
   "source": []
  },
  {
   "cell_type": "code",
   "execution_count": null,
   "id": "8a82466d",
   "metadata": {},
   "outputs": [],
   "source": []
  },
  {
   "cell_type": "code",
   "execution_count": null,
   "id": "096b1613",
   "metadata": {},
   "outputs": [],
   "source": [
    "tes.dtypes"
   ]
  },
  {
   "cell_type": "code",
   "execution_count": null,
   "id": "d6853ef1",
   "metadata": {},
   "outputs": [],
   "source": [
    "tes.shape"
   ]
  },
  {
   "cell_type": "code",
   "execution_count": null,
   "id": "c3e9d4f3",
   "metadata": {},
   "outputs": [],
   "source": [
    "tes.corr()"
   ]
  },
  {
   "cell_type": "code",
   "execution_count": null,
   "id": "0872c63e",
   "metadata": {},
   "outputs": [],
   "source": [
    "stok"
   ]
  },
  {
   "cell_type": "code",
   "execution_count": null,
   "id": "084b7605",
   "metadata": {},
   "outputs": [],
   "source": []
  },
  {
   "cell_type": "code",
   "execution_count": null,
   "id": "b0593f94",
   "metadata": {},
   "outputs": [],
   "source": []
  },
  {
   "cell_type": "code",
   "execution_count": null,
   "id": "ba020a7c",
   "metadata": {},
   "outputs": [],
   "source": []
  },
  {
   "cell_type": "code",
   "execution_count": null,
   "id": "1978219e",
   "metadata": {},
   "outputs": [],
   "source": []
  },
  {
   "cell_type": "code",
   "execution_count": null,
   "id": "fd60f867",
   "metadata": {},
   "outputs": [],
   "source": []
  },
  {
   "cell_type": "code",
   "execution_count": null,
   "id": "fcd51f72",
   "metadata": {},
   "outputs": [],
   "source": []
  },
  {
   "cell_type": "code",
   "execution_count": null,
   "id": "5b6cb109",
   "metadata": {},
   "outputs": [],
   "source": []
  },
  {
   "cell_type": "code",
   "execution_count": null,
   "id": "866024b0",
   "metadata": {},
   "outputs": [],
   "source": []
  },
  {
   "cell_type": "code",
   "execution_count": null,
   "id": "9339e72f",
   "metadata": {},
   "outputs": [],
   "source": []
  },
  {
   "cell_type": "code",
   "execution_count": null,
   "id": "f01fc6d7",
   "metadata": {},
   "outputs": [],
   "source": []
  },
  {
   "cell_type": "markdown",
   "id": "4998cef7",
   "metadata": {},
   "source": [
    "# Import Data"
   ]
  },
  {
   "cell_type": "code",
   "execution_count": null,
   "id": "c1acba08",
   "metadata": {},
   "outputs": [],
   "source": [
    "df = pd.read_csv(\"data/daily_min_temp.csv\", index_col=\"Date\", parse_dates=[\"Date\"])\n",
    "df.head()"
   ]
  },
  {
   "cell_type": "code",
   "execution_count": null,
   "id": "7b01b833",
   "metadata": {},
   "outputs": [],
   "source": [
    "df.Temp.plot(figsize=(15, 5), color=\"b\")"
   ]
  },
  {
   "cell_type": "code",
   "execution_count": null,
   "id": "2b258f36",
   "metadata": {},
   "outputs": [],
   "source": [
    "ts_train, ts_test = train_test_split(df, test_size=0.2, shuffle=False)\n",
    "ts_train.shape, ts_test.shape"
   ]
  },
  {
   "cell_type": "markdown",
   "id": "b89a514c",
   "metadata": {},
   "source": [
    "# Dataset & Dataloader"
   ]
  },
  {
   "cell_type": "code",
   "execution_count": null,
   "id": "b4ee7b4e",
   "metadata": {},
   "outputs": [],
   "source": [
    "from jcopdl.utils.dataloader import TimeSeriesDataset\n",
    "from torch.utils.data import DataLoader"
   ]
  },
  {
   "cell_type": "code",
   "execution_count": null,
   "id": "57d400ee",
   "metadata": {},
   "outputs": [],
   "source": [
    "seq_len = 14\n",
    "bs = 32\n",
    "\n",
    "train_set = TimeSeriesDataset(ts_train, \"Temp\", seq_len)\n",
    "trainloader = DataLoader(train_set, batch_size=bs, num_workers=4)\n",
    "\n",
    "test_set = TimeSeriesDataset(ts_test, \"Temp\", seq_len)\n",
    "testloader = DataLoader(test_set, batch_size=bs)"
   ]
  },
  {
   "cell_type": "markdown",
   "id": "e085f18a",
   "metadata": {},
   "source": [
    "# Arsitektur & Config"
   ]
  },
  {
   "cell_type": "code",
   "execution_count": null,
   "id": "bbd8045f",
   "metadata": {},
   "outputs": [],
   "source": [
    "class GRU(nn.Module):\n",
    "    def __init__(self, input_size, output_size, hidden_size, num_layers, dropout):\n",
    "        super().__init__()\n",
    "        self.rnn = nn.GRU(input_size, hidden_size, num_layers, dropout=dropout, batch_first=True)\n",
    "        self.fc = nn.Linear(hidden_size, output_size)\n",
    "        \n",
    "    def forward(self, x, hidden):\n",
    "        x, hidden = self.rnn(x, hidden)\n",
    "        x = self.fc(x)\n",
    "        return x, hidden"
   ]
  },
  {
   "cell_type": "code",
   "execution_count": null,
   "id": "9492a40b",
   "metadata": {},
   "outputs": [],
   "source": [
    "config = set_config({\n",
    "    \"input_size\": train_set.n_feature,\n",
    "    \"seq_len\": train_set.n_seq,\n",
    "    \"output_size\": 1,\n",
    "    \"hidden_size\": 64,\n",
    "    \"num_layers\": 2,\n",
    "    \"dropout\": 0,\n",
    "})"
   ]
  },
  {
   "cell_type": "markdown",
   "id": "c31d8abd",
   "metadata": {},
   "source": [
    "# Training Preparation -> MCOC"
   ]
  },
  {
   "cell_type": "code",
   "execution_count": null,
   "id": "a27d3013",
   "metadata": {},
   "outputs": [],
   "source": [
    "model = GRU(config.input_size, config.output_size, config.hidden_size, config.num_layers, config.dropout).to(device)\n",
    "criterion = nn.MSELoss(reduction=\"mean\")\n",
    "optimizer = optim.AdamW(model.parameters(), lr=0.001)\n",
    "callback = Callback(model, config, outdir=\"model/gru\")"
   ]
  },
  {
   "cell_type": "code",
   "execution_count": null,
   "id": "bfe8125a",
   "metadata": {},
   "outputs": [],
   "source": [
    "from tqdm.auto import tqdm\n",
    "\n",
    "def loop_fn(mode, dataset, dataloader, model, criterion, optimizer, device):\n",
    "    if mode == \"train\":\n",
    "        model.train()\n",
    "    elif mode == \"test\":\n",
    "        model.eval()\n",
    "    cost = 0\n",
    "    for feature, target in tqdm(dataloader, desc=mode.title()):\n",
    "        feature, target = feature.to(device), target.to(device)\n",
    "        output, hidden = model(feature, None)\n",
    "        loss = criterion(output, target)\n",
    "        \n",
    "        if mode == \"train\":\n",
    "            loss.backward()\n",
    "            optimizer.step()\n",
    "            optimizer.zero_grad()\n",
    "        \n",
    "        cost += loss.item() * feature.shape[0]\n",
    "    cost = cost / len(dataset)\n",
    "    return cost"
   ]
  },
  {
   "cell_type": "code",
   "execution_count": null,
   "id": "eb3f82ea",
   "metadata": {},
   "outputs": [],
   "source": [
    "while True:\n",
    "    train_cost = loop_fn(\"train\", train_set, trainloader, model, criterion, optimizer, device)\n",
    "    with torch.no_grad():\n",
    "        test_cost = loop_fn(\"test\", test_set, testloader, model, criterion, optimizer, device)\n",
    "    \n",
    "    # Logging\n",
    "    callback.log(train_cost, test_cost)\n",
    "\n",
    "    # Checkpoint\n",
    "    callback.save_checkpoint()\n",
    "        \n",
    "    # Runtime Plotting\n",
    "    callback.cost_runtime_plotting()\n",
    "    \n",
    "    # Early Stopping\n",
    "    if callback.early_stopping(model, monitor=\"test_cost\"):\n",
    "        callback.plot_cost()\n",
    "        break"
   ]
  },
  {
   "cell_type": "markdown",
   "id": "4f9c9202",
   "metadata": {},
   "source": [
    "# Sanity Check"
   ]
  },
  {
   "cell_type": "code",
   "execution_count": null,
   "id": "bb4d747e",
   "metadata": {},
   "outputs": [],
   "source": [
    "from luwiji.rnn import illustration"
   ]
  },
  {
   "cell_type": "code",
   "execution_count": null,
   "id": "c4bf3b70",
   "metadata": {},
   "outputs": [],
   "source": [
    "illustration.forecast"
   ]
  },
  {
   "cell_type": "code",
   "execution_count": null,
   "id": "4219be29",
   "metadata": {},
   "outputs": [],
   "source": [
    "from utils import data4pred, pred4pred"
   ]
  },
  {
   "cell_type": "code",
   "execution_count": null,
   "id": "b2b9b2c3",
   "metadata": {},
   "outputs": [],
   "source": [
    "train_forecast_set = TimeSeriesDataset(ts_train, \"Temp\", 1)\n",
    "trainforecastloader = DataLoader(train_forecast_set)\n",
    "test_forecast_set = TimeSeriesDataset(ts_test, \"Temp\", 1)\n",
    "testforecastloader = DataLoader(test_forecast_set)"
   ]
  },
  {
   "cell_type": "code",
   "execution_count": null,
   "id": "6e735354",
   "metadata": {},
   "outputs": [],
   "source": [
    "#data4pred\n",
    "plt.figure(figsize=(15, 10))\n",
    "\n",
    "plt.subplot(211)\n",
    "data4pred(model, train_forecast_set, trainforecastloader, device)\n",
    "plt.title(\"Train\")\n",
    "\n",
    "plt.subplot(212)\n",
    "data4pred(model, test_forecast_set, testforecastloader, device)\n",
    "plt.title(\"Test\")"
   ]
  },
  {
   "cell_type": "code",
   "execution_count": null,
   "id": "ccd3fdec",
   "metadata": {},
   "outputs": [],
   "source": [
    "#pred4pred\n",
    "plt.figure(figsize=(15, 5))\n",
    "pred4pred(model, test_forecast_set, testforecastloader, device)\n",
    "plt.title(\"Test\")"
   ]
  },
  {
   "cell_type": "code",
   "execution_count": null,
   "id": "ba4ac489",
   "metadata": {},
   "outputs": [],
   "source": []
  },
  {
   "cell_type": "code",
   "execution_count": null,
   "id": "f1a501ea",
   "metadata": {},
   "outputs": [],
   "source": []
  },
  {
   "cell_type": "code",
   "execution_count": null,
   "id": "835f4a77",
   "metadata": {},
   "outputs": [],
   "source": []
  },
  {
   "cell_type": "code",
   "execution_count": null,
   "id": "5eeeae21",
   "metadata": {},
   "outputs": [],
   "source": []
  },
  {
   "cell_type": "code",
   "execution_count": null,
   "id": "460dbe43",
   "metadata": {},
   "outputs": [],
   "source": []
  },
  {
   "cell_type": "code",
   "execution_count": null,
   "id": "b530aeba",
   "metadata": {},
   "outputs": [],
   "source": []
  },
  {
   "cell_type": "code",
   "execution_count": null,
   "id": "ce6cbe54",
   "metadata": {},
   "outputs": [],
   "source": []
  },
  {
   "cell_type": "code",
   "execution_count": null,
   "id": "d99a7997",
   "metadata": {},
   "outputs": [],
   "source": []
  },
  {
   "cell_type": "code",
   "execution_count": null,
   "id": "24356c71",
   "metadata": {},
   "outputs": [],
   "source": []
  },
  {
   "cell_type": "code",
   "execution_count": null,
   "id": "80b361f3",
   "metadata": {},
   "outputs": [],
   "source": []
  },
  {
   "cell_type": "code",
   "execution_count": null,
   "id": "00f75281",
   "metadata": {},
   "outputs": [],
   "source": []
  },
  {
   "cell_type": "code",
   "execution_count": null,
   "id": "3a437b0b",
   "metadata": {},
   "outputs": [],
   "source": []
  },
  {
   "cell_type": "code",
   "execution_count": null,
   "id": "d2bff6c2",
   "metadata": {},
   "outputs": [],
   "source": []
  },
  {
   "cell_type": "code",
   "execution_count": null,
   "id": "4de7f419",
   "metadata": {},
   "outputs": [],
   "source": []
  },
  {
   "cell_type": "code",
   "execution_count": null,
   "id": "bf6b51d9",
   "metadata": {},
   "outputs": [],
   "source": []
  }
 ],
 "metadata": {
  "kernelspec": {
   "display_name": "Python 3 (ipykernel)",
   "language": "python",
   "name": "python3"
  },
  "language_info": {
   "codemirror_mode": {
    "name": "ipython",
    "version": 3
   },
   "file_extension": ".py",
   "mimetype": "text/x-python",
   "name": "python",
   "nbconvert_exporter": "python",
   "pygments_lexer": "ipython3",
   "version": "3.9.7"
  },
  "varInspector": {
   "cols": {
    "lenName": 16,
    "lenType": 16,
    "lenVar": 40
   },
   "kernels_config": {
    "python": {
     "delete_cmd_postfix": "",
     "delete_cmd_prefix": "del ",
     "library": "var_list.py",
     "varRefreshCmd": "print(var_dic_list())"
    },
    "r": {
     "delete_cmd_postfix": ") ",
     "delete_cmd_prefix": "rm(",
     "library": "var_list.r",
     "varRefreshCmd": "cat(var_dic_list()) "
    }
   },
   "types_to_exclude": [
    "module",
    "function",
    "builtin_function_or_method",
    "instance",
    "_Feature"
   ],
   "window_display": false
  }
 },
 "nbformat": 4,
 "nbformat_minor": 5
}
